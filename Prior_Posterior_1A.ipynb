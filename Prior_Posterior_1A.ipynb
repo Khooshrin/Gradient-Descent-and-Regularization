{
  "cells": [
    {
      "cell_type": "markdown",
      "metadata": {
        "id": "k2PXF3btj2Eo"
      },
      "source": [
        "**Importing necessary libraries for Assignment 1-A**\n"
      ]
    },
    {
      "cell_type": "code",
      "execution_count": null,
      "metadata": {
        "id": "vFSA5eMHKDag"
      },
      "outputs": [],
      "source": [
        "import numpy as np\n",
        "from scipy.stats import beta\n",
        "from scipy.stats import binom\n",
        "from scipy.optimize import fmin, minimize_scalar\n",
        "from matplotlib import pyplot as plt"
      ]
    },
    {
      "cell_type": "markdown",
      "metadata": {
        "id": "cAmgejmqkGgv"
      },
      "source": [
        "**Initial Beta Distribution**\n",
        "\n",
        "We are given that the probability of a customer liking the update has a prior beta distribution with a = 2 , b = 2.\n",
        "\n",
        "\n",
        "\n",
        "**Beta Distribution**\n",
        "\n",
        "<img src=\"https://github.com/gibsonjackson/FODSIMG/blob/main/beta1.png?raw=true, width=300\" alt=\"My Image\" width=700>\n",
        "\n",
        "\n",
        "**Posterior Beta Distribution**\n",
        "\n",
        "\n",
        "\n",
        "<img src=\"https://github.com/gibsonjackson/FODSIMG/blob/main/beta2.png?raw=true, width=300\" alt=\"My Image\" width=700>\n",
        "\n",
        "\n"
      ]
    },
    {
      "cell_type": "markdown",
      "metadata": {
        "id": "KuWSZAR8jVvX"
      },
      "source": [
        "**Survey 1**\n",
        "\n",
        "\n",
        "50 people were surveyed, i.e. N = 50\n",
        "\n",
        "\n",
        "40 people liked the update, i.e. m = 40\n",
        "\n",
        "\n",
        "So, 50 - 40 = 10 people disliked the update\n",
        "\n",
        "We know that, in a beta distribution, in going from prior distribution to posterior distribution, if we observe **m** values of one possibility and **l** values of the other possibility, then the new parameters of the beta distribution are a+m, b+l.\n",
        "\n",
        "Prior distribution: p(μ|a,b)\n",
        "\n",
        "Posterior distribution: p(μ|a+m, b+l)\n",
        "\n",
        "\n",
        "Therefore:\n",
        "\n",
        "\n",
        "Prior Beta Distribution will have a = **2**, b = **2**\n",
        "\n",
        "\n",
        "Posterior Beta Distribution will have a = 2 + 40 = **42**, b = 2 + 10 = **12**\n"
      ]
    },
    {
      "cell_type": "code",
      "execution_count": null,
      "metadata": {
        "colab": {
          "base_uri": "https://localhost:8080/",
          "height": 279
        },
        "id": "4NDIKiXSkI93",
        "outputId": "27a5a8d3-4d90-4e18-9eb7-488fdfe4b43a"
      },
      "outputs": [],
      "source": [
        "#Plot code for a=2, b=2 (Prior distribution plot)\n",
        "\n",
        "x=np.linspace(0,1,100)\n",
        "y=beta.pdf(x,2,2)\n",
        "plt.plot(x,y)\n",
        "plt.xlabel(\"s\")\n",
        "plt.ylabel(\"Probability Density Function\")\n",
        "plt.show()\n"
      ]
    },
    {
      "cell_type": "markdown",
      "metadata": {
        "id": "claWt-iXoOmF"
      },
      "source": [
        "**Likelihood Function after Survey 1**\n",
        "\n",
        "<img src=\"https://github.com/gibsonjackson/FODSIMG/blob/main/Likelihood.png?raw=true:, width=300\" alt=\"My Image\" width=700>\n",
        "\n",
        "The likelihood function is expressed as a binomial function where:\n",
        "\n",
        "N = sample size of dataset\n",
        "\n",
        "m = number of times we get a particular possibility of the random variable\n",
        "\n",
        "μ = probability of getting that value of the random variable\n",
        "\n",
        "After Survey 1:\n",
        "\n",
        "N = 50\n",
        "\n",
        "m = 40\n",
        "\n",
        "Likelihood function of s = 50C40 μ^40 (1-μ)^10\n",
        "\n",
        "The posterior distribution can be obtained by multiplying the prior distribution with the likelihood function.\n",
        "\n",
        "\n",
        "\n"
      ]
    },
    {
      "cell_type": "code",
      "execution_count": null,
      "metadata": {
        "colab": {
          "base_uri": "https://localhost:8080/",
          "height": 279
        },
        "id": "7DAZQRXiotPY",
        "outputId": "4f5a2fd7-7fd0-438a-ee87-57974ea61168"
      },
      "outputs": [],
      "source": [
        "# Likelihood for Survey 1\n",
        "\n",
        "x=np.linspace(0,1,100)\n",
        "y=10272278170*pow(x,40)*pow(1-x,10)\n",
        "plt.plot(x,y)\n",
        "plt.xlabel(\"s\")\n",
        "plt.ylabel(\"Likelihood Function\")\n",
        "plt.show()\n"
      ]
    },
    {
      "cell_type": "code",
      "execution_count": null,
      "metadata": {
        "colab": {
          "base_uri": "https://localhost:8080/",
          "height": 279
        },
        "id": "bEx8RtNUkN4N",
        "outputId": "10034dbe-829d-45e7-df5a-dbe82bef95a3"
      },
      "outputs": [],
      "source": [
        "#Plot code for a=42, b=12 (Posterior distribution plot)\n",
        "\n",
        "x=np.linspace(0,1,100)\n",
        "y=beta.pdf(x,42,12)\n",
        "plt.plot(x,y)\n",
        "plt.xlabel(\"s\")\n",
        "plt.ylabel(\"Probability Density Function\")\n",
        "plt.show()"
      ]
    },
    {
      "cell_type": "markdown",
      "metadata": {
        "id": "aysVIAGuk2eR"
      },
      "source": [
        "**Survey 2**\n",
        "\n",
        "30 people were surveyed, i.e. N = 30\n",
        "\n",
        "17 people disliked the update\n",
        "\n",
        "So, 30 - 17 = 13 people liked the update, i.e. m = 13\n",
        "\n",
        "Therefore: \n",
        "\n",
        "Prior Beta Distribution will have a = **42** , b = **12**\n",
        "\n",
        "Posterior Beta Distribution will have a = 42 + 13 = **55** , b = 12 + 17 = **29**\n",
        "\n",
        "**Likelihood Function after Survey 2**\n",
        "\n",
        "After Survey 2:\n",
        "\n",
        "N = 30\n",
        "\n",
        "m = 13\n",
        "\n",
        "Likelihood function of s = 30C13 μ^13 (1-μ)^17\n",
        "\n",
        "The posterior distribution can be obtained by multiplying the prior distribution with the likelihood function.\n"
      ]
    },
    {
      "cell_type": "code",
      "execution_count": null,
      "metadata": {
        "colab": {
          "base_uri": "https://localhost:8080/",
          "height": 279
        },
        "id": "Qs1UlEB35Bw5",
        "outputId": "662497ed-7197-4b83-d5c5-9359e1bd9c4b"
      },
      "outputs": [],
      "source": [
        "# Likelihood for Survey 2\n",
        "\n",
        "x=np.linspace(0,1,100)\n",
        "y=119759850*pow(x,13)*pow(1-x,17)\n",
        "plt.plot(x,y)\n",
        "plt.xlabel(\"s\")\n",
        "plt.ylabel(\"Likelihood Function\")\n",
        "plt.show()"
      ]
    },
    {
      "cell_type": "code",
      "execution_count": null,
      "metadata": {
        "colab": {
          "base_uri": "https://localhost:8080/",
          "height": 282
        },
        "id": "cCj7zDGHk850",
        "outputId": "e9c8f293-57e5-4982-9a63-093dd155ab77"
      },
      "outputs": [],
      "source": [
        "#Plot code for a=55 b=29 (Posterior distribution plot)\n",
        "\n",
        "x=np.linspace(0,1,100)\n",
        "y=beta.pdf(x,55,29)\n",
        "plt.plot(x,y)\n",
        "plt.xlabel(\"s\")\n",
        "plt.ylabel(\"Probability Density Function\")\n",
        "plt.show()"
      ]
    },
    {
      "cell_type": "markdown",
      "metadata": {
        "id": "Fca7dyOAlNZA"
      },
      "source": [
        "**Survey 3**\n",
        "\n",
        "\n",
        "100 people were surveyed, i.e. N = 100\n",
        "\n",
        "\n",
        "70 people liked the update, i.e. m = 70\n",
        "\n",
        "\n",
        "So, 100 - 70 = 30 people dislike the update\n",
        "\n",
        "\n",
        "Therefore:\n",
        "\n",
        "\n",
        "Prior Beta Distribution will have a = **55**, b = **29**\n",
        "\n",
        "\n",
        "Posterior Beta Distribution will have a = 55 + 70 = **125**, b = 29 + 30 = **59**\n",
        "\n",
        "\n",
        "**Likelihood Function after Survey 3**\n",
        "\n",
        "After Survey 3:\n",
        "\n",
        "N = 100\n",
        "\n",
        "m = 70\n",
        "\n",
        "Likelihood function of s = 100C70 μ^70 (1-μ)^30\n",
        "\n",
        "The posterior distribution can be obtained by multiplying the prior distribution with the likelihood function.\n",
        "\n"
      ]
    },
    {
      "cell_type": "code",
      "execution_count": null,
      "metadata": {
        "colab": {
          "base_uri": "https://localhost:8080/",
          "height": 279
        },
        "id": "ZvNp4AYA5Y9V",
        "outputId": "0e43e025-7ea0-43ab-ed6b-a7f995c6b9c8"
      },
      "outputs": [],
      "source": [
        "# Likelihood for Survey 3\n",
        "\n",
        "x=np.linspace(0,1,100)\n",
        "y=2.9372339821611e+25*pow(x,70)*pow(1-x,30)\n",
        "plt.plot(x,y)\n",
        "plt.xlabel(\"s\")\n",
        "plt.ylabel(\"Likelihood Function\")\n",
        "plt.show()"
      ]
    },
    {
      "cell_type": "code",
      "execution_count": null,
      "metadata": {
        "colab": {
          "base_uri": "https://localhost:8080/",
          "height": 282
        },
        "id": "GamAYPvEpRw4",
        "outputId": "758b13cd-a46c-4fd7-8c57-59487bc895d6"
      },
      "outputs": [],
      "source": [
        "#Plot code for a=125 b=59 (Posterior distribution plot)\n",
        "\n",
        "x=np.linspace(0,1,100)\n",
        "y=beta.pdf(x,125,59)\n",
        "plt.plot(x,y)\n",
        "plt.xlabel(\"s\")\n",
        "plt.ylabel(\"Probability Density Function\")\n",
        "plt.show()"
      ]
    }
  ],
  "metadata": {
    "colab": {
      "provenance": []
    },
    "kernelspec": {
      "display_name": "Python 3",
      "name": "python3"
    },
    "language_info": {
      "name": "python"
    }
  },
  "nbformat": 4,
  "nbformat_minor": 0
}
