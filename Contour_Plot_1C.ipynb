{
  "cells": [
    {
      "cell_type": "code",
      "execution_count": null,
      "metadata": {
        "id": "bzM34vw3fx5G"
      },
      "outputs": [],
      "source": [
        "import numpy as np\n",
        "import matplotlib.pyplot as plt"
      ]
    },
    {
      "cell_type": "code",
      "execution_count": null,
      "metadata": {
        "id": "66zCCc9r_VLT"
      },
      "outputs": [],
      "source": [
        "import pandas as pd\n",
        "import numpy as np\n",
        "df = pd.read_csv('https://raw.githubusercontent.com/gibsonjackson/FODSIMG/main/TrainFinal.csv')\n",
        "\n",
        "Res = df['quantitative response of LC50']\n",
        "X1 = df['MLOGP']\n",
        "X2 = df['RDCHI']\n",
        "X1 = (X1-X1.mean())/X1.std() #normalising the data\n",
        "X2 = (X2-X2.mean())/X2.std()\n",
        "Y1 = Res.tolist()\n",
        "X1 = X1.tolist()\n",
        "X2 = X2.tolist()"
      ]
    },
    {
      "cell_type": "markdown",
      "metadata": {
        "id": "OjF6LIIrFHFd"
      },
      "source": [
        "**FOR q=0.5 AND η=1.4**\n",
        "\n",
        "*Plotting the error function, constraint region and point of intersection*"
      ]
    },
    {
      "cell_type": "code",
      "execution_count": null,
      "metadata": {
        "colab": {
          "base_uri": "https://localhost:8080/",
          "height": 283
        },
        "id": "alj4diQg_jIF",
        "outputId": "3150ea41-2c83-42ac-fd52-8ee93abc8b53"
      },
      "outputs": [],
      "source": [
        "X=np.arange(-2,2,0.01)\n",
        "fig = plt.figure()\n",
        "ax = fig.add_subplot(1,1,1)\n",
        "ax.set_xlabel('w1')\n",
        "ax.set_ylabel('w2')\n",
        "w1=np.linspace(-2,2,100)\n",
        "w2=np.linspace(-2,2,100)\n",
        "A,B=np.meshgrid(w1,w2)\n",
        "C=[0.0]\n",
        "for k,l,m in zip(X1,X2,Y1):\n",
        "  C = C + (A*k+B*l-m)**2\n",
        "C=(C-C.mean())/C.std()\n",
        "C=C/2\n",
        "ax.contour(w1,w2,np.transpose(C),135)\n",
        "plt.axis('equal')\n",
        "plt.show()"
      ]
    },
    {
      "cell_type": "code",
      "execution_count": null,
      "metadata": {
        "colab": {
          "base_uri": "https://localhost:8080/",
          "height": 283
        },
        "id": "v_dQJwB3dmyU",
        "outputId": "cce8a2e8-e89d-44a7-8356-e2c8f5f6609e"
      },
      "outputs": [],
      "source": [
        "X=np.arange(-2,2,0.01)\n",
        "fig = plt.figure()\n",
        "ax = fig.add_subplot(1,1,1)\n",
        "ax.set_xlabel('w1')\n",
        "ax.set_ylabel('w2')\n",
        "Y=(1.4-(abs(X)**0.5))**2\n",
        "Z=-(1.4-(abs(X)**0.5))**2\n",
        "w1=np.linspace(-2,2,100)\n",
        "w2=np.linspace(-2,2,100)\n",
        "A,B=np.meshgrid(w1,w2)\n",
        "C=[0.0]\n",
        "for k,l,m in zip(X1,X2,Y1):\n",
        "  C = C + (A*k+B*l-m)**2\n",
        "C=(C-C.mean())/C.std()\n",
        "C=C/2\n",
        "ax.contour(w1,w2,np.transpose(C),135)\n",
        "plt.axis('equal')\n",
        "plt.plot(X,Y,'r')\n",
        "plt.plot(X,Z,'r')\n",
        "plt.scatter(0.34,0.72)\n",
        "plt.show()"
      ]
    },
    {
      "cell_type": "markdown",
      "metadata": {
        "id": "LmPN57wDnLzo"
      },
      "source": [
        "The above plot (in red) shows the constraint region for |w1|^0.5 + |w2|^0.5 <= 1.4 . \n",
        "\n",
        "The error function contour is shown in blue, as the unregularised error function C = 0.5 * Σ(Yn-Tn)^2 where Yn = w1x1+w2x2 and Tn is the actual value of LC50 in the given dataset.\n",
        "\n",
        "At the point of intersection of the tangential contour and the constraint region, the values of w1 and w2 yield the global minima.\n",
        "\n",
        "(w1, w2) = (0.34, 0.72)"
      ]
    },
    {
      "cell_type": "markdown",
      "metadata": {
        "id": "y-SnIRcsJ7Xs"
      },
      "source": [
        "*Calculating mean squared error for q=0.5*"
      ]
    },
    {
      "cell_type": "code",
      "execution_count": null,
      "metadata": {
        "colab": {
          "base_uri": "https://localhost:8080/"
        },
        "id": "XYzfs6zqCO1P",
        "outputId": "9945c89b-ed20-43c4-b41a-4f13e39a45e5"
      },
      "outputs": [],
      "source": [
        "E=0.0\n",
        "Y1=Res.tolist()\n",
        "for k,l,m in zip(X1,X2,Y1):\n",
        "  E = E + (k*0.34+l*0.72-m)**2\n",
        "E=2*E/len(X1)\n",
        "print(E)"
      ]
    },
    {
      "cell_type": "markdown",
      "metadata": {
        "id": "ugS3lV-wMMfJ"
      },
      "source": [
        "The mean squared error (above) is calculated by the following:\n",
        "\n",
        "E = 0.5 * Σ (Yn-Tn)^2 such that |w1|^0.5 + |w2|^0.5 <= 1.4 \n",
        "\n",
        "For this, we use the w1 and w2 values we found from the point of intersection of the plots.\n",
        "\n",
        "Error obtained for q = 0.5 is E = 47.24722076370246"
      ]
    },
    {
      "cell_type": "markdown",
      "metadata": {
        "id": "EOBeVB0fQNJG"
      },
      "source": [
        "\n",
        "\n",
        "---\n",
        "\n"
      ]
    },
    {
      "cell_type": "markdown",
      "metadata": {
        "id": "IygZpuwzFbhW"
      },
      "source": [
        "**FOR q=1 AND η=0.1**\n",
        "\n",
        "*Plotting the error function, constraint region and point of intersection*"
      ]
    },
    {
      "cell_type": "code",
      "execution_count": null,
      "metadata": {
        "colab": {
          "base_uri": "https://localhost:8080/",
          "height": 279
        },
        "id": "1z6E4IQyAQz1",
        "outputId": "58dd1ac2-3bc2-41b5-8fec-410322ab92c6"
      },
      "outputs": [],
      "source": [
        "X=np.arange(-0.10,0.11,0.01)\n",
        "fig = plt.figure()\n",
        "ax = fig.add_subplot(1,1,1)\n",
        "ax.set_xlabel('w1')\n",
        "ax.set_ylabel('w2')\n",
        "w1=np.linspace(-0.1,0.11,100)\n",
        "w2=np.linspace(-0.1,0.11,100)\n",
        "A,B=np.meshgrid(w1,w2)\n",
        "C=[0.0]\n",
        "for k,l,m in zip(X1,X2,Y1):\n",
        "  C = C + (A*k+B*l-m)**2\n",
        "C=(C-C.mean())/C.std()\n",
        "C=C/2\n",
        "ax.contour(w1,w2,np.transpose(C),55)\n",
        "\n",
        "plt.axis('equal')\n",
        "plt.show()"
      ]
    },
    {
      "cell_type": "code",
      "execution_count": null,
      "metadata": {
        "colab": {
          "base_uri": "https://localhost:8080/",
          "height": 279
        },
        "id": "YyN_jhdah4xI",
        "outputId": "d522f8e0-5bd1-4f2a-94f0-1ea90adbc90e"
      },
      "outputs": [],
      "source": [
        "X=np.arange(-0.10,0.11,0.01)\n",
        "fig = plt.figure()\n",
        "ax = fig.add_subplot(1,1,1)\n",
        "ax.set_xlabel('w1')\n",
        "ax.set_ylabel('w2')\n",
        "Y=(0.1-abs(X))\n",
        "Z=-(0.1-abs(X))\n",
        "w1=np.linspace(-0.1,0.11,100)\n",
        "w2=np.linspace(-0.1,0.11,100)\n",
        "A,B=np.meshgrid(w1,w2)\n",
        "C=[0.0]\n",
        "for k,l,m in zip(X1,X2,Y1):\n",
        "  C = C + (A*k+B*l-m)**2\n",
        "C=(C-C.mean())/C.std()\n",
        "C=C/2\n",
        "ax.contour(w1,w2,np.transpose(C),55)\n",
        "\n",
        "plt.axis('equal')\n",
        "plt.plot(X,Y, 'r')\n",
        "plt.plot(X,Z,'r')\n",
        "plt.scatter(0,0.1)\n",
        "plt.show()"
      ]
    },
    {
      "cell_type": "markdown",
      "metadata": {
        "id": "e3uWMoz-mN4C"
      },
      "source": [
        "The above plot (in red) shows the constraint region for |w1| + |w2| <= 0.1 . \n",
        "\n",
        "The error function contour is shown in blue, as the unregularised error function C = 0.5 * Σ(Yn-Tn)^2 where Yn = w1x1+w2x2 and Tn is the actual value of LC50 in the given dataset.\n",
        "\n",
        "At the point of intersection of the tangential contour and the constraint region, the values of w1 and w2 yield the global minima.\n",
        "\n",
        "(w1, w2) = (0, 0.1)\n"
      ]
    },
    {
      "cell_type": "markdown",
      "metadata": {
        "id": "gcmJRVAQKGhj"
      },
      "source": [
        "*Calculating mean squared error for q=1*"
      ]
    },
    {
      "cell_type": "code",
      "execution_count": null,
      "metadata": {
        "colab": {
          "base_uri": "https://localhost:8080/"
        },
        "id": "rv_-DdAqCSY0",
        "outputId": "91657763-2909-4dcc-a92a-ec40d20b4d02"
      },
      "outputs": [],
      "source": [
        "E=0.0\n",
        "Y1=Res.tolist()\n",
        "for k,l,m in zip(X1,X2,Y1):\n",
        "  E = E + (k*0+l*0.1-m)**2\n",
        "E=2*E/len(X1)\n",
        "print(E)"
      ]
    },
    {
      "cell_type": "markdown",
      "metadata": {
        "id": "2tUN2D5xPjVr"
      },
      "source": [
        "The mean squared error (above) is calculated by the following:\n",
        "\n",
        "E = 0.5 * Σ (Yn-Tn)^2 such that |w1| + |w2| <= 0.1  \n",
        "\n",
        "For this, we use the w1 and w2 values we found from the point of intersection of the plots.\n",
        "\n",
        "Error obtained for q = 0.5 is E = 48.66225084807716"
      ]
    },
    {
      "cell_type": "markdown",
      "metadata": {
        "id": "8DFqVmndQQN2"
      },
      "source": [
        "\n",
        "\n",
        "---\n",
        "\n"
      ]
    },
    {
      "cell_type": "markdown",
      "metadata": {
        "id": "PFdtMKR5Fg2B"
      },
      "source": [
        "**FOR q=2 AND η=0.035**\n",
        "\n",
        "*Plotting the error function, constraint region and point of intersection*"
      ]
    },
    {
      "cell_type": "code",
      "execution_count": null,
      "metadata": {
        "colab": {
          "base_uri": "https://localhost:8080/",
          "height": 279
        },
        "id": "KkMgds3fAcbi",
        "outputId": "aec61477-578e-4f5f-c536-6dffd66ec979"
      },
      "outputs": [],
      "source": [
        "X=np.arange(-0.18708286933869706927918743661583,0.18708286933869706927918743661583,0.00001)\n",
        "fig = plt.figure()\n",
        "ax = fig.add_subplot(1,1,1)\n",
        "ax.set_xlabel('w1')\n",
        "ax.set_ylabel('w2')\n",
        "w1=np.linspace(-0.187,0.187,100)\n",
        "w2=np.linspace(-0.187,0.187,100)\n",
        "A,B=np.meshgrid(w1,w2)\n",
        "C=[0.0]\n",
        "for k,l,m in zip(X1,X2,Y1):\n",
        "  C = C + (A*k+B*l-m)**2\n",
        "C=(C-C.mean())/C.std()\n",
        "C=C/2\n",
        "ax.contour(w1,w2,np.transpose(C),100)\n",
        "\n",
        "plt.axis('equal')\n",
        "plt.show()"
      ]
    },
    {
      "cell_type": "code",
      "execution_count": null,
      "metadata": {
        "colab": {
          "base_uri": "https://localhost:8080/",
          "height": 280
        },
        "id": "IzslZUXBjC-V",
        "outputId": "c2cc84eb-3e3e-4e83-d015-81a61ab25314"
      },
      "outputs": [],
      "source": [
        "X=np.arange(-0.18708286933869706927918743661583,0.18708286933869706927918743661583,0.00001)\n",
        "fig = plt.figure()\n",
        "ax = fig.add_subplot(1,1,1)\n",
        "ax.set_xlabel('w1')\n",
        "ax.set_ylabel('w2')\n",
        "Y=np.sqrt((0.035-(X**2)))\n",
        "Z=-1*np.sqrt((0.035-(X**2)))\n",
        "w1=np.linspace(-0.187,0.187,100)\n",
        "w2=np.linspace(-0.187,0.187,100)\n",
        "A,B=np.meshgrid(w1,w2)\n",
        "C=[0.0]\n",
        "for k,l,m in zip(X1,X2,Y1):\n",
        "  C = C + (A*k+B*l-m)**2\n",
        "\n",
        "C=(C-C.mean())/C.std()\n",
        "C=C/2\n",
        "ax.contour(w1,w2,np.transpose(C),100)\n",
        "\n",
        "plt.axis('equal')\n",
        "plt.plot(X,Y, 'r')\n",
        "plt.plot(X,Z, 'r')\n",
        "plt.scatter(0.1,0.158)\n",
        "plt.show()"
      ]
    },
    {
      "cell_type": "markdown",
      "metadata": {
        "id": "305_1ckpmbbe"
      },
      "source": [
        "The above plot (in red) shows the constraint region for |w1|^2 + |w2|^2 <= 0.035 . \n",
        "\n",
        "The error function contour is shown in blue, as the unregularised error function C = 0.5 * Σ(Yn-Tn)^2 where Yn = w1x1+w2x2 and Tn is the actual value of LC50 in the given dataset.\n",
        "\n",
        "At the point of intersection of the tangential contour and the constraint region, the values of w1 and w2 yield the global minima.\n",
        "\n",
        "(w1, w2) = (0.1, 0.158)"
      ]
    },
    {
      "cell_type": "markdown",
      "metadata": {
        "id": "jnA2ishXKJ9k"
      },
      "source": [
        "*Calculating mean squared error for q=2*"
      ]
    },
    {
      "cell_type": "code",
      "execution_count": null,
      "metadata": {
        "colab": {
          "base_uri": "https://localhost:8080/"
        },
        "id": "aPZJfGm36RfL",
        "outputId": "e3273366-c641-4e4f-9e2e-5fc146578119"
      },
      "outputs": [],
      "source": [
        "E=0.0\n",
        "Y1=Res.tolist()\n",
        "for k,l,m in zip(X1,X2,Y1):\n",
        "  E = E + (k*0.1+l*0.158-m)**2\n",
        "E=2*E/len(X1)\n",
        "print(E)"
      ]
    },
    {
      "cell_type": "markdown",
      "metadata": {
        "id": "DI9bJWSVPsPW"
      },
      "source": [
        "The mean squared error (above) is calculated by the following:\n",
        "\n",
        "E = 0.5 * Σ (Yn-Tn)^2 such that |w1|^2 + |w2|^2 <= 0.035 \n",
        "\n",
        "For this, we use the w1 and w2 values we found from the point of intersection of the plots.\n",
        "\n",
        "Error obtained for q = 0.5 is E = 48.21047669160243"
      ]
    },
    {
      "cell_type": "markdown",
      "metadata": {
        "id": "CKKlOjIDQSJ-"
      },
      "source": [
        "\n",
        "\n",
        "---\n",
        "\n"
      ]
    },
    {
      "cell_type": "markdown",
      "metadata": {
        "id": "JpD2HvntFlsr"
      },
      "source": [
        "**FOR q=4 AND η=0.052**\n",
        "\n",
        "*Plotting the error function, constraint region and point of intersection*"
      ]
    },
    {
      "cell_type": "code",
      "execution_count": null,
      "metadata": {
        "colab": {
          "base_uri": "https://localhost:8080/",
          "height": 279
        },
        "id": "tpqplh38Am85",
        "outputId": "8d64b92c-d6a3-460b-9052-76e57efc8896"
      },
      "outputs": [],
      "source": [
        "X=np.linspace(-0.4775301927834,0.4775301927834,100)\n",
        "fig = plt.figure()\n",
        "ax = fig.add_subplot(1,1,1)\n",
        "ax.set_xlabel('w1')\n",
        "ax.set_ylabel('w2')\n",
        "w1=np.linspace(-0.47753,0.47753,100)\n",
        "w2=np.linspace(-0.47753,0.47753,100)\n",
        "A,B=np.meshgrid(w1,w2)\n",
        "C=[0.0]\n",
        "for k,l,m in zip(X1,X2,Y1):\n",
        "  C = C + (A*k+B*l-m)**2\n",
        "C=(C-C.mean())/C.std()\n",
        "C=C/2\n",
        "ax.contour(w1,w2,np.transpose(C),90)\n",
        "\n",
        "plt.axis('equal')\n",
        "plt.show()"
      ]
    },
    {
      "cell_type": "code",
      "execution_count": null,
      "metadata": {
        "colab": {
          "base_uri": "https://localhost:8080/",
          "height": 279
        },
        "id": "77kgVdaElnnK",
        "outputId": "56952a82-1f68-45d1-d71d-d7137875b8fe"
      },
      "outputs": [],
      "source": [
        "X=np.linspace(-0.4775301927834,0.4775301927834,100)\n",
        "fig = plt.figure()\n",
        "ax = fig.add_subplot(1,1,1)\n",
        "ax.set_xlabel('w1')\n",
        "ax.set_ylabel('w2')\n",
        "Y=(0.052-(X**4))**0.25\n",
        "Z=-1*(0.052-(X**4))**0.25\n",
        "w1=np.linspace(-0.47753,0.47753,100)\n",
        "w2=np.linspace(-0.47753,0.47753,100)\n",
        "A,B=np.meshgrid(w1,w2)\n",
        "C=[0.0]\n",
        "for k,l,m in zip(X1,X2,Y1):\n",
        "  C = C + (A*k+B*l-m)**2\n",
        "\n",
        "C=(C-C.mean())/C.std()\n",
        "C=C/2\n",
        "ax.contour(w1,w2,np.transpose(C),90)\n",
        "\n",
        "plt.axis('equal')\n",
        "plt.plot(X,Y, 'r')\n",
        "plt.plot(X,Z, 'r')\n",
        "plt.scatter(0.365,0.435)\n",
        "plt.show()"
      ]
    },
    {
      "cell_type": "markdown",
      "metadata": {
        "id": "z3YT3RX2mlWL"
      },
      "source": [
        "The above plot (in red) shows the constraint region for |w1|^4 + |w2|^4 <= 0.052 . \n",
        "\n",
        "The error function contour is shown in blue, as the unregularised error function C = 0.5 * Σ(Yn-Tn)^2 where Yn = w1x1+w2x2 and Tn is the actual value of LC50 in the given dataset.\n",
        "\n",
        "At the point of intersection of the tangential contour and the constraint region, the values of w1 and w2 yield the global minima.\n",
        "\n",
        "(w1, w2) = (0.365, 0.435)"
      ]
    },
    {
      "cell_type": "markdown",
      "metadata": {
        "id": "ktHObhCEKMuA"
      },
      "source": [
        "*Calculating mean squared error for q=4*"
      ]
    },
    {
      "cell_type": "code",
      "execution_count": null,
      "metadata": {
        "colab": {
          "base_uri": "https://localhost:8080/"
        },
        "id": "lBsT3ywjN1La",
        "outputId": "27df9927-627c-4c3b-e877-044059d44578"
      },
      "outputs": [],
      "source": [
        "E=0.0\n",
        "Y1=Res.tolist()\n",
        "for k,l,m in zip(X1,X2,Y1):\n",
        "  E = E + (k*0.365+l*0.435-m)**2\n",
        "E=2*E/len(X1)\n",
        "print(E)"
      ]
    },
    {
      "cell_type": "markdown",
      "metadata": {
        "id": "yuPyBUvIQCZ7"
      },
      "source": [
        "The mean squared error (above) is calculated by the following:\n",
        "\n",
        "E = 0.5 * Σ (Yn-Tn)^2 such that |w1|^4 + |w2|^4 <= 0.052\n",
        "\n",
        "For this, we use the w1 and w2 values we found from the point of intersection of the plots.\n",
        "\n",
        "Error obtained for q = 0.5 is E = 47.219356921674226"
      ]
    },
    {
      "cell_type": "markdown",
      "metadata": {
        "id": "NS0V7osMQXok"
      },
      "source": [
        "\n",
        "\n",
        "---\n",
        "\n"
      ]
    },
    {
      "cell_type": "markdown",
      "metadata": {
        "id": "Q6cFAOy7E2Ro"
      },
      "source": [
        "**CONCLUSION**\n",
        "\n",
        "As we can clearly see, the best model is generated with q = 4 since it has the least error upon regularisation. "
      ]
    }
  ],
  "metadata": {
    "colab": {
      "provenance": []
    },
    "kernelspec": {
      "display_name": "Python 3",
      "name": "python3"
    },
    "language_info": {
      "name": "python"
    }
  },
  "nbformat": 4,
  "nbformat_minor": 0
}
