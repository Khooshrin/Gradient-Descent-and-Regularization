{
  "cells": [
    {
      "cell_type": "code",
      "execution_count": null,
      "metadata": {
        "id": "9X6r6jJyZ61b"
      },
      "outputs": [],
      "source": [
        "import pandas as pd\n",
        "import numpy as np\n",
        "df = pd.read_csv('https://raw.githubusercontent.com/gibsonjackson/FODS-Assignment-2/main/Train.csv')\n",
        "target = df['Appliances']\n",
        "train=df.drop(columns='Appliances')\n",
        "m=len(train)\n",
        "\n",
        "train = (train-train.min())/(train.max()-train.min())"
      ]
    },
    {
      "cell_type": "code",
      "execution_count": null,
      "metadata": {
        "id": "KcWGzapP0BIl"
      },
      "outputs": [],
      "source": [
        "import pandas as pd\n",
        "import numpy as np\n",
        "dft = pd.read_csv('https://raw.githubusercontent.com/gibsonjackson/FODS-Assignment-2/main/Test%20(1).csv')\n",
        "testtarget = dft['Appliances']\n",
        "testtrain=dft.drop(columns='Appliances')\n",
        "m=len(testtrain)\n",
        "\n",
        "testtrain = (testtrain-testtrain.min())/(testtrain.max()-testtrain.min())"
      ]
    },
    {
      "cell_type": "code",
      "execution_count": null,
      "metadata": {
        "colab": {
          "base_uri": "https://localhost:8080/"
        },
        "id": "jXZcamfvs0l9",
        "outputId": "e6c20426-1eb3-411d-d140-f24d51e098a1"
      },
      "outputs": [
        {
          "data": {
            "text/plain": [
              "(6316, 26)"
            ]
          },
          "execution_count": 26,
          "metadata": {},
          "output_type": "execute_result"
        }
      ],
      "source": [
        "train.shape "
      ]
    },
    {
      "cell_type": "code",
      "execution_count": null,
      "metadata": {
        "colab": {
          "base_uri": "https://localhost:8080/"
        },
        "id": "IsDXUy63s-Tf",
        "outputId": "bdff6c1b-f13e-4d15-eaae-4f31753638ca"
      },
      "outputs": [
        {
          "data": {
            "text/plain": [
              "(6316,)"
            ]
          },
          "execution_count": 27,
          "metadata": {},
          "output_type": "execute_result"
        }
      ],
      "source": [
        "target.shape"
      ]
    },
    {
      "cell_type": "code",
      "execution_count": null,
      "metadata": {
        "colab": {
          "base_uri": "https://localhost:8080/",
          "height": 236
        },
        "id": "3iIZ0VDXtBNN",
        "outputId": "a005dab7-da86-429e-849e-c93fbacf1daa"
      },
      "outputs": [
        {
          "data": {
            "text/html": [
              "<div>\n",
              "<style scoped>\n",
              "    .dataframe tbody tr th:only-of-type {\n",
              "        vertical-align: middle;\n",
              "    }\n",
              "\n",
              "    .dataframe tbody tr th {\n",
              "        vertical-align: top;\n",
              "    }\n",
              "\n",
              "    .dataframe thead th {\n",
              "        text-align: right;\n",
              "    }\n",
              "</style>\n",
              "<table border=\"1\" class=\"dataframe\">\n",
              "  <thead>\n",
              "    <tr style=\"text-align: right;\">\n",
              "      <th></th>\n",
              "      <th>T1</th>\n",
              "      <th>RH_1</th>\n",
              "      <th>T2</th>\n",
              "      <th>RH_2</th>\n",
              "      <th>T3</th>\n",
              "      <th>RH_3</th>\n",
              "      <th>T4</th>\n",
              "      <th>RH_4</th>\n",
              "      <th>T5</th>\n",
              "      <th>RH_5</th>\n",
              "      <th>...</th>\n",
              "      <th>T9</th>\n",
              "      <th>RH_9</th>\n",
              "      <th>T_out</th>\n",
              "      <th>Press_mm_hg</th>\n",
              "      <th>RH_out</th>\n",
              "      <th>Windspeed</th>\n",
              "      <th>Visibility</th>\n",
              "      <th>Tdewpoint</th>\n",
              "      <th>rv1</th>\n",
              "      <th>rv2</th>\n",
              "    </tr>\n",
              "  </thead>\n",
              "  <tbody>\n",
              "    <tr>\n",
              "      <th>0</th>\n",
              "      <td>0.422386</td>\n",
              "      <td>0.311030</td>\n",
              "      <td>0.140049</td>\n",
              "      <td>0.537066</td>\n",
              "      <td>0.366710</td>\n",
              "      <td>0.300520</td>\n",
              "      <td>0.424819</td>\n",
              "      <td>0.235321</td>\n",
              "      <td>0.330306</td>\n",
              "      <td>0.500476</td>\n",
              "      <td>...</td>\n",
              "      <td>0.461325</td>\n",
              "      <td>0.374530</td>\n",
              "      <td>0.342903</td>\n",
              "      <td>0.756031</td>\n",
              "      <td>0.711111</td>\n",
              "      <td>0.202381</td>\n",
              "      <td>0.415385</td>\n",
              "      <td>0.396898</td>\n",
              "      <td>0.390072</td>\n",
              "      <td>0.390072</td>\n",
              "    </tr>\n",
              "    <tr>\n",
              "      <th>1</th>\n",
              "      <td>0.550158</td>\n",
              "      <td>0.421773</td>\n",
              "      <td>0.449631</td>\n",
              "      <td>0.531796</td>\n",
              "      <td>0.432551</td>\n",
              "      <td>0.449992</td>\n",
              "      <td>0.579710</td>\n",
              "      <td>0.442638</td>\n",
              "      <td>0.483270</td>\n",
              "      <td>0.367557</td>\n",
              "      <td>...</td>\n",
              "      <td>0.613944</td>\n",
              "      <td>0.519298</td>\n",
              "      <td>0.509677</td>\n",
              "      <td>0.544747</td>\n",
              "      <td>0.446667</td>\n",
              "      <td>0.559524</td>\n",
              "      <td>0.600000</td>\n",
              "      <td>0.427464</td>\n",
              "      <td>0.023203</td>\n",
              "      <td>0.023203</td>\n",
              "    </tr>\n",
              "    <tr>\n",
              "      <th>2</th>\n",
              "      <td>0.254488</td>\n",
              "      <td>0.585183</td>\n",
              "      <td>0.184275</td>\n",
              "      <td>0.667330</td>\n",
              "      <td>0.182522</td>\n",
              "      <td>0.716491</td>\n",
              "      <td>0.404589</td>\n",
              "      <td>0.665613</td>\n",
              "      <td>0.226099</td>\n",
              "      <td>0.346005</td>\n",
              "      <td>...</td>\n",
              "      <td>0.208117</td>\n",
              "      <td>0.629372</td>\n",
              "      <td>0.354839</td>\n",
              "      <td>0.647471</td>\n",
              "      <td>0.680000</td>\n",
              "      <td>0.428571</td>\n",
              "      <td>0.600000</td>\n",
              "      <td>0.393248</td>\n",
              "      <td>0.372826</td>\n",
              "      <td>0.372826</td>\n",
              "    </tr>\n",
              "    <tr>\n",
              "      <th>3</th>\n",
              "      <td>0.564238</td>\n",
              "      <td>0.362040</td>\n",
              "      <td>0.434889</td>\n",
              "      <td>0.476409</td>\n",
              "      <td>0.557566</td>\n",
              "      <td>0.320995</td>\n",
              "      <td>0.660326</td>\n",
              "      <td>0.306083</td>\n",
              "      <td>0.512906</td>\n",
              "      <td>0.223812</td>\n",
              "      <td>...</td>\n",
              "      <td>0.613944</td>\n",
              "      <td>0.466490</td>\n",
              "      <td>0.400000</td>\n",
              "      <td>0.633463</td>\n",
              "      <td>0.613333</td>\n",
              "      <td>0.380952</td>\n",
              "      <td>0.600000</td>\n",
              "      <td>0.405566</td>\n",
              "      <td>0.827847</td>\n",
              "      <td>0.827847</td>\n",
              "    </tr>\n",
              "    <tr>\n",
              "      <th>4</th>\n",
              "      <td>0.527983</td>\n",
              "      <td>0.442420</td>\n",
              "      <td>0.228501</td>\n",
              "      <td>0.704818</td>\n",
              "      <td>0.474223</td>\n",
              "      <td>0.516617</td>\n",
              "      <td>0.479167</td>\n",
              "      <td>0.442638</td>\n",
              "      <td>0.445985</td>\n",
              "      <td>0.253884</td>\n",
              "      <td>...</td>\n",
              "      <td>0.552549</td>\n",
              "      <td>0.554410</td>\n",
              "      <td>0.371613</td>\n",
              "      <td>0.515175</td>\n",
              "      <td>0.948889</td>\n",
              "      <td>0.130952</td>\n",
              "      <td>0.430769</td>\n",
              "      <td>0.567974</td>\n",
              "      <td>0.134923</td>\n",
              "      <td>0.134923</td>\n",
              "    </tr>\n",
              "  </tbody>\n",
              "</table>\n",
              "<p>5 rows × 26 columns</p>\n",
              "</div>"
            ],
            "text/plain": [
              "         T1      RH_1        T2      RH_2        T3      RH_3        T4  \\\n",
              "0  0.422386  0.311030  0.140049  0.537066  0.366710  0.300520  0.424819   \n",
              "1  0.550158  0.421773  0.449631  0.531796  0.432551  0.449992  0.579710   \n",
              "2  0.254488  0.585183  0.184275  0.667330  0.182522  0.716491  0.404589   \n",
              "3  0.564238  0.362040  0.434889  0.476409  0.557566  0.320995  0.660326   \n",
              "4  0.527983  0.442420  0.228501  0.704818  0.474223  0.516617  0.479167   \n",
              "\n",
              "       RH_4        T5      RH_5  ...        T9      RH_9     T_out  \\\n",
              "0  0.235321  0.330306  0.500476  ...  0.461325  0.374530  0.342903   \n",
              "1  0.442638  0.483270  0.367557  ...  0.613944  0.519298  0.509677   \n",
              "2  0.665613  0.226099  0.346005  ...  0.208117  0.629372  0.354839   \n",
              "3  0.306083  0.512906  0.223812  ...  0.613944  0.466490  0.400000   \n",
              "4  0.442638  0.445985  0.253884  ...  0.552549  0.554410  0.371613   \n",
              "\n",
              "   Press_mm_hg    RH_out  Windspeed  Visibility  Tdewpoint       rv1       rv2  \n",
              "0     0.756031  0.711111   0.202381    0.415385   0.396898  0.390072  0.390072  \n",
              "1     0.544747  0.446667   0.559524    0.600000   0.427464  0.023203  0.023203  \n",
              "2     0.647471  0.680000   0.428571    0.600000   0.393248  0.372826  0.372826  \n",
              "3     0.633463  0.613333   0.380952    0.600000   0.405566  0.827847  0.827847  \n",
              "4     0.515175  0.948889   0.130952    0.430769   0.567974  0.134923  0.134923  \n",
              "\n",
              "[5 rows x 26 columns]"
            ]
          },
          "execution_count": 28,
          "metadata": {},
          "output_type": "execute_result"
        }
      ],
      "source": [
        "train.head()"
      ]
    },
    {
      "cell_type": "code",
      "execution_count": null,
      "metadata": {
        "id": "ySu3tmatnK9T",
        "outputId": "d1c9d649-e86e-44eb-f87f-c996f4a3baff"
      },
      "outputs": [
        {
          "data": {
            "text/plain": [
              "<bound method NDFrame.describe of 0        90\n",
              "1        60\n",
              "2        40\n",
              "3       120\n",
              "4        60\n",
              "       ... \n",
              "6311     50\n",
              "6312    240\n",
              "6313     40\n",
              "6314     50\n",
              "6315     30\n",
              "Name: Appliances, Length: 6316, dtype: int64>"
            ]
          },
          "execution_count": 29,
          "metadata": {},
          "output_type": "execute_result"
        }
      ],
      "source": [
        "target.describe"
      ]
    },
    {
      "cell_type": "code",
      "execution_count": null,
      "metadata": {
        "colab": {
          "base_uri": "https://localhost:8080/"
        },
        "id": "55Jfekli2ABw",
        "outputId": "590085e6-7a3a-463b-8c9c-95ec78edc5d2"
      },
      "outputs": [
        {
          "name": "stdout",
          "output_type": "stream",
          "text": [
            "['T1', 'RH_1', 'T2', 'RH_2', 'T3', 'RH_3', 'T4', 'RH_4', 'T5', 'RH_5', 'T6', 'RH_6', 'T7', 'RH_7', 'T8', 'RH_8', 'T9', 'RH_9', 'T_out', 'Press_mm_hg', 'RH_out', 'Windspeed', 'Visibility', 'Tdewpoint', 'rv1', 'rv2']\n"
          ]
        }
      ],
      "source": [
        "headers = ['T1',\t'RH_1',\t'T2',\t'RH_2'\t,'T3',\t'RH_3',\t'T4'\t,'RH_4'\t,'T5'\t,'RH_5',\t'T6'\t,'RH_6'\t,'T7',\t'RH_7',\t'T8'\t,'RH_8',\t'T9',\t'RH_9'\t,'T_out'\t,'Press_mm_hg' ,'RH_out'\t,'Windspeed',\t'Visibility'\t,'Tdewpoint'\t,'rv1'\t,'rv2']\n",
        "print(headers)"
      ]
    },
    {
      "cell_type": "code",
      "execution_count": null,
      "metadata": {
        "id": "4oqhek6S2u8Y"
      },
      "outputs": [],
      "source": [
        "selected = [False]*26 # to be used in backward selection process\n",
        "maxInt = 1000000000\n",
        "weightRecord = []\n",
        "lossRecord = []\n",
        "iters = 10000\n",
        "alpha = 0.001\n",
        "wtest = [0.0]*27"
      ]
    },
    {
      "cell_type": "code",
      "execution_count": null,
      "metadata": {
        "id": "fR4jHEsXdvfp"
      },
      "outputs": [],
      "source": [
        "def hypothesis(weights,k,train):\n",
        "  ans = weights[26]\n",
        "  for i in range(0,26):\n",
        "    if(selected[i]):\n",
        "      ans +=weights[i]*train[headers[i]][k]\n",
        "  return ans"
      ]
    },
    {
      "cell_type": "code",
      "execution_count": null,
      "metadata": {
        "colab": {
          "base_uri": "https://localhost:8080/"
        },
        "id": "oSr2_wG93YVq",
        "outputId": "fbd553c9-d454-462d-a509-8e88bcae69bb"
      },
      "outputs": [
        {
          "name": "stdout",
          "output_type": "stream",
          "text": [
            "0.0\n"
          ]
        }
      ],
      "source": [
        "print(hypothesis(wtest,0,train))"
      ]
    },
    {
      "cell_type": "code",
      "execution_count": null,
      "metadata": {
        "id": "RA1J1EDSdzl8"
      },
      "outputs": [],
      "source": [
        "def error(weights,trai,tar):\n",
        "  ans = 0.0\n",
        "  for i in range(0,len(trai)):\n",
        "    ans+=(hypothesis(weights,i,trai)-tar[i])**2\n",
        "  ans = ans/len(trai)\n",
        "  return ans"
      ]
    },
    {
      "cell_type": "code",
      "execution_count": null,
      "metadata": {
        "colab": {
          "base_uri": "https://localhost:8080/"
        },
        "id": "Dgy7BCK8dPHG",
        "outputId": "8552593f-a6b0-4b03-90d0-7cefd98ab3ae"
      },
      "outputs": [
        {
          "name": "stdout",
          "output_type": "stream",
          "text": [
            "20781.253958201392\n",
            "19501.457541191383\n"
          ]
        }
      ],
      "source": [
        "print(error(wtest,train,target))\n",
        "print(error(wtest,testtrain,testtarget))"
      ]
    },
    {
      "cell_type": "code",
      "execution_count": null,
      "metadata": {
        "id": "JdcaMbMn3UQz"
      },
      "outputs": [],
      "source": [
        "#calculating P value for all elements\n",
        "# assuming all as normal distribution\n",
        "# calculating means and stds\n",
        "\n",
        "means=[]\n",
        "for i in headers:\n",
        "  means.append(train[i].mean())\n",
        "stds=[]\n",
        "for i in headers:\n",
        "  stds.append(train[i].std())\n"
      ]
    },
    {
      "cell_type": "code",
      "execution_count": null,
      "metadata": {
        "colab": {
          "base_uri": "https://localhost:8080/"
        },
        "id": "Mi8SZEGd3kmA",
        "outputId": "33744e6a-97f4-4a63-b024-c8702c0558ac"
      },
      "outputs": [
        {
          "name": "stdout",
          "output_type": "stream",
          "text": [
            "[0.5180655847722182, 0.43096300838262885, 0.3137372691353044, 0.5946976341704316, 0.4246852546745268, 0.4932303546133799, 0.5236742109863322, 0.4609911596058361, 0.4098371352041371, 0.3174387267590655, 0.409069038542438, 0.5388224668664012, 0.461029228434447, 0.4294175683784081, 0.5225026831863743, 0.45438466694068796, 0.4805175708069097, 0.5165351455556216, 0.4005070961613108, 0.6088241426647089, 0.728938925580874, 0.28855072744703925, 0.5747614253309057, 0.4685652466161711, 0.5018716515651714, 0.5018716515651714]\n"
          ]
        }
      ],
      "source": [
        "print(means)"
      ]
    },
    {
      "cell_type": "code",
      "execution_count": null,
      "metadata": {
        "colab": {
          "base_uri": "https://localhost:8080/"
        },
        "id": "X9fIy8d34rW9",
        "outputId": "3407832a-aac8-40e7-b54c-2daa1e8c2dbe"
      },
      "outputs": [
        {
          "name": "stdout",
          "output_type": "stream",
          "text": [
            "[0.17138531309183924, 0.13195590949509542, 0.16479881193440274, 0.12229584171465294, 0.17009967348544372, 0.15394859029025432, 0.18672170574764327, 0.19658249835930897, 0.17953078527330552, 0.13762139424894634, 0.18026362038795116, 0.3132081467841356, 0.202087630603261, 0.1852676229485009, 0.18139966624486178, 0.17968086930164415, 0.21248269583719004, 0.1735188190085632, 0.172969320910378, 0.17062486026746315, 0.19824822156628458, 0.17552799460584073, 0.1818930972562375, 0.19362274345347624, 0.28734875378160724, 0.28734875378160724]\n"
          ]
        }
      ],
      "source": [
        "print(stds)"
      ]
    },
    {
      "cell_type": "code",
      "execution_count": null,
      "metadata": {
        "id": "ZY8heVFfe0ov"
      },
      "outputs": [],
      "source": [
        "def Regression(trai,tar):\n",
        "  w = [0.0]*27\n",
        "  size = len(trai)\n",
        "  k = 0\n",
        "  while k<iters:\n",
        "    for p in range(0,len(tar)):\n",
        "      k+=1\n",
        "      w[26] = w[26] -  (alpha*(hypothesis(w,p,trai)-tar[p]))\n",
        "      for i in range(0,26):\n",
        "        if(selected[i]):\n",
        "          w[i] = w[i] - (alpha*(hypothesis(w,p,trai)-tar[p])*trai[headers[i]][p])\n",
        "  return w\n",
        "\n"
      ]
    },
    {
      "cell_type": "code",
      "execution_count": null,
      "metadata": {
        "id": "vuq3es69iRsB"
      },
      "outputs": [],
      "source": [
        "initialW = Regression(train,target)"
      ]
    },
    {
      "cell_type": "code",
      "execution_count": null,
      "metadata": {
        "id": "5m57nPrFnK9X",
        "outputId": "06508ab7-a883-49a2-9e70-f7ff050995c9"
      },
      "outputs": [
        {
          "name": "stdout",
          "output_type": "stream",
          "text": [
            "[0.0, 0.0, 0.0, 0.0, 0.0, 0.0, 0.0, 0.0, 0.0, 0.0, 0.0, 0.0, 0.0, 0.0, 0.0, 0.0, 0.0, 0.0, 0.0, 0.0, 0.0, 0.0, 0.0, 0.0, 0.0, 0.0, 103.5913640590022]\n"
          ]
        }
      ],
      "source": [
        "print(initialW)"
      ]
    },
    {
      "cell_type": "code",
      "execution_count": null,
      "metadata": {
        "colab": {
          "base_uri": "https://localhost:8080/"
        },
        "id": "GGCsB_pK-kP8",
        "outputId": "566de030-3fc2-40b1-aa6e-a5cd9f2a1a2f"
      },
      "outputs": [
        {
          "name": "stdout",
          "output_type": "stream",
          "text": [
            "103.5913640590022\n",
            "90\n"
          ]
        }
      ],
      "source": [
        "print(hypothesis(initialW,0,train))\n",
        "print(target[0])"
      ]
    },
    {
      "cell_type": "code",
      "execution_count": null,
      "metadata": {
        "colab": {
          "base_uri": "https://localhost:8080/"
        },
        "id": "EFygbYw7F83D",
        "outputId": "208431e8-c89b-476d-a708-c96708552de6"
      },
      "outputs": [
        {
          "name": "stdout",
          "output_type": "stream",
          "text": [
            "11032.3004616902\n"
          ]
        }
      ],
      "source": [
        "print(error(initialW,train,target))"
      ]
    },
    {
      "cell_type": "code",
      "execution_count": null,
      "metadata": {
        "colab": {
          "base_uri": "https://localhost:8080/"
        },
        "id": "xz97gnY6GdJa",
        "outputId": "6af5fd34-85a7-4181-8ae4-a650d1f38699"
      },
      "outputs": [
        {
          "name": "stdout",
          "output_type": "stream",
          "text": [
            "10439.981693796648\n"
          ]
        }
      ],
      "source": [
        "print(error(initialW,testtrain,testtarget))"
      ]
    },
    {
      "cell_type": "code",
      "execution_count": null,
      "metadata": {
        "id": "ivK3mEsPdYyo"
      },
      "outputs": [],
      "source": [
        "deleted = [] # stores order of deletion\n",
        "finalModel = initialW\n",
        "trainErrorRecord = [] # sequence of train error\n",
        "trainErrorRecord.append(error(initialW,train,target))\n",
        "testErrorRecord = [] # sequence of test error\n",
        "testErrorRecord.append(error(initialW,testtrain,testtarget))\n",
        "selected = [False]*26\n",
        "models = []\n",
        "models.append(initialW)"
      ]
    },
    {
      "cell_type": "code",
      "execution_count": null,
      "metadata": {
        "colab": {
          "base_uri": "https://localhost:8080/",
          "height": 1000
        },
        "id": "lAh1K5Wxe0Se",
        "outputId": "14904e7d-0625-41ee-d85a-c2bd877cc870"
      },
      "outputs": [
        {
          "name": "stdout",
          "output_type": "stream",
          "text": [
            "[False, False, False, False, False, False, False, False, False, False, False, False, False, False, False, False, False, False, False, False, False, False, False, False, False, False]\n",
            "T6\n",
            "[False, False, False, False, False, False, False, False, False, False, True, False, False, False, False, False, False, False, False, False, False, False, False, False, False, False]\n",
            "Windspeed\n",
            "[False, False, False, False, False, False, False, False, False, False, True, False, False, False, False, False, False, False, False, False, False, True, False, False, False, False]\n",
            "RH_1\n",
            "[False, True, False, False, False, False, False, False, False, False, True, False, False, False, False, False, False, False, False, False, False, True, False, False, False, False]\n",
            "T2\n",
            "[False, True, True, False, False, False, False, False, False, False, True, False, False, False, False, False, False, False, False, False, False, True, False, False, False, False]\n",
            "RH_8\n",
            "[False, True, True, False, False, False, False, False, False, False, True, False, False, False, False, True, False, False, False, False, False, True, False, False, False, False]\n",
            "RH_3\n",
            "[False, True, True, False, False, True, False, False, False, False, True, False, False, False, False, True, False, False, False, False, False, True, False, False, False, False]\n",
            "RH_7\n",
            "[False, True, True, False, False, True, False, False, False, False, True, False, False, True, False, True, False, False, False, False, False, True, False, False, False, False]\n",
            "T3\n",
            "[False, True, True, False, True, True, False, False, False, False, True, False, False, True, False, True, False, False, False, False, False, True, False, False, False, False]\n",
            "RH_9\n",
            "[False, True, True, False, True, True, False, False, False, False, True, False, False, True, False, True, False, True, False, False, False, True, False, False, False, False]\n",
            "RH_5\n",
            "[False, True, True, False, True, True, False, False, False, True, True, False, False, True, False, True, False, True, False, False, False, True, False, False, False, False]\n",
            "rv1\n",
            "[False, True, True, False, True, True, False, False, False, True, True, False, False, True, False, True, False, True, False, False, False, True, False, False, True, False]\n",
            "RH_out\n",
            "[False, True, True, False, True, True, False, False, False, True, True, False, False, True, False, True, False, True, False, False, True, True, False, False, True, False]\n",
            "Visibility\n",
            "[False, True, True, False, True, True, False, False, False, True, True, False, False, True, False, True, False, True, False, False, True, True, True, False, True, False]\n",
            "RH_6\n",
            "[False, True, True, False, True, True, False, False, False, True, True, True, False, True, False, True, False, True, False, False, True, True, True, False, True, False]\n",
            "Press_mm_hg\n",
            "[False, True, True, False, True, True, False, False, False, True, True, True, False, True, False, True, False, True, False, True, True, True, True, False, True, False]\n",
            "RH_4\n",
            "[False, True, True, False, True, True, False, True, False, True, True, True, False, True, False, True, False, True, False, True, True, True, True, False, True, False]\n",
            "RH_2\n",
            "[False, True, True, True, True, True, False, True, False, True, True, True, False, True, False, True, False, True, False, True, True, True, True, False, True, False]\n",
            "rv2\n",
            "[False, True, True, True, True, True, False, True, False, True, True, True, False, True, False, True, False, True, False, True, True, True, True, False, True, True]\n",
            "Tdewpoint\n",
            "[False, True, True, True, True, True, False, True, False, True, True, True, False, True, False, True, False, True, False, True, True, True, True, True, True, True]\n",
            "T9\n",
            "[False, True, True, True, True, True, False, True, False, True, True, True, False, True, False, True, True, True, False, True, True, True, True, True, True, True]\n",
            "T4\n",
            "[False, True, True, True, True, True, True, True, False, True, True, True, False, True, False, True, True, True, False, True, True, True, True, True, True, True]\n",
            "T5\n",
            "[False, True, True, True, True, True, True, True, True, True, True, True, False, True, False, True, True, True, False, True, True, True, True, True, True, True]\n",
            "T1\n",
            "[True, True, True, True, True, True, True, True, True, True, True, True, False, True, False, True, True, True, False, True, True, True, True, True, True, True]\n",
            "T7\n",
            "[True, True, True, True, True, True, True, True, True, True, True, True, True, True, False, True, True, True, False, True, True, True, True, True, True, True]\n",
            "T_out\n",
            "[True, True, True, True, True, True, True, True, True, True, True, True, True, True, False, True, True, True, True, True, True, True, True, True, True, True]\n",
            "T8\n",
            "[True, True, True, True, True, True, True, True, True, True, True, True, True, True, True, True, True, True, True, True, True, True, True, True, True, True]\n"
          ]
        }
      ],
      "source": [
        "#BruteForce Greedy Backward Feature Selection\n",
        "k = 0\n",
        "for k in range(0,26):\n",
        "  print(selected)\n",
        "  minIndex = -1\n",
        "  minTrainError = maxInt\n",
        "  minTestError = maxInt\n",
        "  for p in range(0,26):\n",
        "    if(selected[p]==True):\n",
        "      continue\n",
        "    else:\n",
        "      selected[p]=True\n",
        "    InstanceModel = Regression(train,target)\n",
        "    trainError = error(InstanceModel,train,target)\n",
        "    testError = error(InstanceModel,testtrain,testtarget)\n",
        "    if(testError<minTestError):\n",
        "      minIndex = p\n",
        "      minTestError = testError\n",
        "      minTrainError = trainError\n",
        "    selected[p]=False\n",
        "\n",
        "\n",
        "  selected[minIndex]=True\n",
        "  InstanceModel = Regression(train,target)\n",
        "  models.append(InstanceModel)\n",
        "  trainError = error(InstanceModel,train,target)\n",
        "  testError = error(InstanceModel,testtrain,testtarget)\n",
        "  deleted.append(minIndex)\n",
        "  trainErrorRecord.append(trainError)\n",
        "  testErrorRecord.append(testError)\n",
        "  print(headers[minIndex])\n",
        "\n",
        "print(selected)"
      ]
    },
    {
      "cell_type": "code",
      "execution_count": null,
      "metadata": {
        "id": "jjfkd27WnK9Y",
        "outputId": "14ad7619-7ef2-4fd6-90ab-c8433991509d"
      },
      "outputs": [
        {
          "name": "stdout",
          "output_type": "stream",
          "text": [
            "10130.753518770156\n",
            "9\n"
          ]
        }
      ],
      "source": [
        "best = maxInt\n",
        "index = -1\n",
        "for i in range(0,26):\n",
        "    if(testErrorRecord[i]<best):\n",
        "        index = i\n",
        "        best = testErrorRecord[i]\n",
        "\n",
        "print(best)\n",
        "print(index)\n",
        "\n"
      ]
    },
    {
      "cell_type": "code",
      "execution_count": null,
      "metadata": {
        "id": "4AtGXyv_nK9Y",
        "outputId": "91d19071-be85-46a5-e25c-4bb9ce4c69e4"
      },
      "outputs": [
        {
          "name": "stdout",
          "output_type": "stream",
          "text": [
            "[10, 21, 1, 2, 15, 5, 13, 4, 17, 9, 24, 20, 22, 11, 19, 7, 3, 25, 23, 16, 6, 8, 0, 12, 18, 14]\n"
          ]
        }
      ],
      "source": [
        "print(deleted)"
      ]
    },
    {
      "cell_type": "code",
      "execution_count": null,
      "metadata": {
        "id": "9PC0IIepnK9Y",
        "outputId": "8b56761f-4fca-4069-f3cb-c9ef0e6f7407"
      },
      "outputs": [
        {
          "name": "stdout",
          "output_type": "stream",
          "text": [
            "10130.753518770156\n"
          ]
        }
      ],
      "source": [
        "print(best)"
      ]
    },
    {
      "cell_type": "code",
      "execution_count": null,
      "metadata": {
        "id": "4UMDDM_ynK9Y"
      },
      "outputs": [],
      "source": [
        "selected = [False]*26\n",
        "i = 0\n",
        "for i in range(0,index):\n",
        "    selected[deleted[i]]=True\n",
        "\n",
        "FinalModelBackwardPropagation = Regression(train,target)"
      ]
    },
    {
      "cell_type": "code",
      "execution_count": null,
      "metadata": {
        "id": "i7MBdRmHnK9Y",
        "outputId": "006a42fc-b9fb-44d3-a7de-7c5daa8f2188"
      },
      "outputs": [
        {
          "name": "stdout",
          "output_type": "stream",
          "text": [
            "10130.753518770156\n"
          ]
        }
      ],
      "source": [
        "print(error(FinalModelBackwardPropagation,testtrain,testtarget))"
      ]
    },
    {
      "cell_type": "code",
      "execution_count": null,
      "metadata": {
        "id": "omiPDaZ5nK9Z",
        "outputId": "ad31dc54-b299-4139-89c6-b1a2d52b73ea"
      },
      "outputs": [
        {
          "name": "stdout",
          "output_type": "stream",
          "text": [
            "[False, True, True, False, True, True, False, False, False, False, True, False, False, True, False, True, False, True, False, False, False, True, False, False, False, False]\n"
          ]
        }
      ],
      "source": [
        "print(selected)"
      ]
    },
    {
      "cell_type": "code",
      "execution_count": null,
      "metadata": {
        "id": "6WtelTljnK9Z",
        "outputId": "b0923557-9347-4b77-983c-88c81f350eea"
      },
      "outputs": [
        {
          "name": "stdout",
          "output_type": "stream",
          "text": [
            "RH_1\n",
            "T2\n",
            "T3\n",
            "RH_3\n",
            "T6\n",
            "RH_7\n",
            "RH_8\n",
            "RH_9\n",
            "Windspeed\n"
          ]
        }
      ],
      "source": [
        "for i in range(0,26):\n",
        "    if(selected[i]):\n",
        "        print(headers[i])"
      ]
    }
  ],
  "metadata": {
    "colab": {
      "provenance": []
    },
    "kernelspec": {
      "display_name": "Python 3.10.5 64-bit",
      "language": "python",
      "name": "python3"
    },
    "language_info": {
      "codemirror_mode": {
        "name": "ipython",
        "version": 3
      },
      "file_extension": ".py",
      "mimetype": "text/x-python",
      "name": "python",
      "nbconvert_exporter": "python",
      "pygments_lexer": "ipython3",
      "version": "3.10.5"
    },
    "vscode": {
      "interpreter": {
        "hash": "44f906b7d8c79486b69862d79936a4f47e9b2e04934d68e5ff85c4f27cfebbd0"
      }
    }
  },
  "nbformat": 4,
  "nbformat_minor": 0
}