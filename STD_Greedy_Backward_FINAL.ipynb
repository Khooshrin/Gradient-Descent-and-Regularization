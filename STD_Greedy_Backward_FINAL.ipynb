{
  "cells": [
    {
      "cell_type": "code",
      "execution_count": null,
      "metadata": {
        "id": "9X6r6jJyZ61b"
      },
      "outputs": [],
      "source": [
        "import pandas as pd\n",
        "import numpy as np\n",
        "df = pd.read_csv('https://raw.githubusercontent.com/gibsonjackson/FODS-Assignment-2/main/Train.csv')\n",
        "target = df['Appliances']\n",
        "train=df.drop(columns='Appliances')\n",
        "m=len(train)\n",
        "\n",
        "train = (train-train.mean())/(train.std())"
      ]
    },
    {
      "cell_type": "code",
      "execution_count": null,
      "metadata": {
        "id": "KcWGzapP0BIl"
      },
      "outputs": [],
      "source": [
        "import pandas as pd\n",
        "import numpy as np\n",
        "dft = pd.read_csv('https://raw.githubusercontent.com/gibsonjackson/FODS-Assignment-2/main/Test%20(1).csv')\n",
        "testtarget = dft['Appliances']\n",
        "testtrain=dft.drop(columns='Appliances')\n",
        "m=len(testtrain)\n",
        "\n",
        "testtrain = (testtrain-testtrain.mean())/(testtrain.std())"
      ]
    },
    {
      "cell_type": "code",
      "execution_count": null,
      "metadata": {
        "colab": {
          "base_uri": "https://localhost:8080/"
        },
        "id": "jXZcamfvs0l9",
        "outputId": "e6c20426-1eb3-411d-d140-f24d51e098a1"
      },
      "outputs": [
        {
          "data": {
            "text/plain": [
              "(6316, 26)"
            ]
          },
          "execution_count": 7,
          "metadata": {},
          "output_type": "execute_result"
        }
      ],
      "source": [
        "train.shape "
      ]
    },
    {
      "cell_type": "code",
      "execution_count": null,
      "metadata": {
        "colab": {
          "base_uri": "https://localhost:8080/"
        },
        "id": "IsDXUy63s-Tf",
        "outputId": "bdff6c1b-f13e-4d15-eaae-4f31753638ca"
      },
      "outputs": [
        {
          "data": {
            "text/plain": [
              "(6316,)"
            ]
          },
          "execution_count": 8,
          "metadata": {},
          "output_type": "execute_result"
        }
      ],
      "source": [
        "target.shape"
      ]
    },
    {
      "cell_type": "code",
      "execution_count": null,
      "metadata": {
        "colab": {
          "base_uri": "https://localhost:8080/",
          "height": 236
        },
        "id": "3iIZ0VDXtBNN",
        "outputId": "a005dab7-da86-429e-849e-c93fbacf1daa"
      },
      "outputs": [
        {
          "data": {
            "text/html": [
              "<div>\n",
              "<style scoped>\n",
              "    .dataframe tbody tr th:only-of-type {\n",
              "        vertical-align: middle;\n",
              "    }\n",
              "\n",
              "    .dataframe tbody tr th {\n",
              "        vertical-align: top;\n",
              "    }\n",
              "\n",
              "    .dataframe thead th {\n",
              "        text-align: right;\n",
              "    }\n",
              "</style>\n",
              "<table border=\"1\" class=\"dataframe\">\n",
              "  <thead>\n",
              "    <tr style=\"text-align: right;\">\n",
              "      <th></th>\n",
              "      <th>T1</th>\n",
              "      <th>RH_1</th>\n",
              "      <th>T2</th>\n",
              "      <th>RH_2</th>\n",
              "      <th>T3</th>\n",
              "      <th>RH_3</th>\n",
              "      <th>T4</th>\n",
              "      <th>RH_4</th>\n",
              "      <th>T5</th>\n",
              "      <th>RH_5</th>\n",
              "      <th>...</th>\n",
              "      <th>T9</th>\n",
              "      <th>RH_9</th>\n",
              "      <th>T_out</th>\n",
              "      <th>Press_mm_hg</th>\n",
              "      <th>RH_out</th>\n",
              "      <th>Windspeed</th>\n",
              "      <th>Visibility</th>\n",
              "      <th>Tdewpoint</th>\n",
              "      <th>rv1</th>\n",
              "      <th>rv2</th>\n",
              "    </tr>\n",
              "  </thead>\n",
              "  <tbody>\n",
              "    <tr>\n",
              "      <th>0</th>\n",
              "      <td>-0.558269</td>\n",
              "      <td>-0.908886</td>\n",
              "      <td>-1.053940</td>\n",
              "      <td>-0.471249</td>\n",
              "      <td>-0.340829</td>\n",
              "      <td>-1.251785</td>\n",
              "      <td>-0.529426</td>\n",
              "      <td>-1.147968</td>\n",
              "      <td>-0.442995</td>\n",
              "      <td>1.330007</td>\n",
              "      <td>...</td>\n",
              "      <td>-0.090325</td>\n",
              "      <td>-0.818386</td>\n",
              "      <td>-0.333029</td>\n",
              "      <td>0.862752</td>\n",
              "      <td>-0.089927</td>\n",
              "      <td>-0.490918</td>\n",
              "      <td>-0.876211</td>\n",
              "      <td>-0.370140</td>\n",
              "      <td>-0.389074</td>\n",
              "      <td>-0.389074</td>\n",
              "    </tr>\n",
              "    <tr>\n",
              "      <th>1</th>\n",
              "      <td>0.187255</td>\n",
              "      <td>-0.069643</td>\n",
              "      <td>0.824607</td>\n",
              "      <td>-0.514343</td>\n",
              "      <td>0.046245</td>\n",
              "      <td>-0.280861</td>\n",
              "      <td>0.300104</td>\n",
              "      <td>-0.093362</td>\n",
              "      <td>0.409024</td>\n",
              "      <td>0.364176</td>\n",
              "      <td>...</td>\n",
              "      <td>0.627939</td>\n",
              "      <td>0.015921</td>\n",
              "      <td>0.631154</td>\n",
              "      <td>-0.375544</td>\n",
              "      <td>-1.423832</td>\n",
              "      <td>1.543760</td>\n",
              "      <td>0.138755</td>\n",
              "      <td>-0.212277</td>\n",
              "      <td>-1.665812</td>\n",
              "      <td>-1.665812</td>\n",
              "    </tr>\n",
              "    <tr>\n",
              "      <th>2</th>\n",
              "      <td>-1.537925</td>\n",
              "      <td>1.168722</td>\n",
              "      <td>-0.785577</td>\n",
              "      <td>0.593906</td>\n",
              "      <td>-1.423657</td>\n",
              "      <td>1.450227</td>\n",
              "      <td>-0.637766</td>\n",
              "      <td>1.040894</td>\n",
              "      <td>-1.023433</td>\n",
              "      <td>0.207574</td>\n",
              "      <td>...</td>\n",
              "      <td>-1.281992</td>\n",
              "      <td>0.650284</td>\n",
              "      <td>-0.264026</td>\n",
              "      <td>0.226501</td>\n",
              "      <td>-0.246857</td>\n",
              "      <td>0.797712</td>\n",
              "      <td>0.138755</td>\n",
              "      <td>-0.388989</td>\n",
              "      <td>-0.449091</td>\n",
              "      <td>-0.449091</td>\n",
              "    </tr>\n",
              "    <tr>\n",
              "      <th>3</th>\n",
              "      <td>0.269407</td>\n",
              "      <td>-0.522315</td>\n",
              "      <td>0.735152</td>\n",
              "      <td>-0.967238</td>\n",
              "      <td>0.781196</td>\n",
              "      <td>-1.118782</td>\n",
              "      <td>0.731848</td>\n",
              "      <td>-0.788008</td>\n",
              "      <td>0.574103</td>\n",
              "      <td>-0.680320</td>\n",
              "      <td>...</td>\n",
              "      <td>0.627939</td>\n",
              "      <td>-0.288412</td>\n",
              "      <td>-0.002932</td>\n",
              "      <td>0.144404</td>\n",
              "      <td>-0.583136</td>\n",
              "      <td>0.526421</td>\n",
              "      <td>0.138755</td>\n",
              "      <td>-0.325373</td>\n",
              "      <td>1.134425</td>\n",
              "      <td>1.134425</td>\n",
              "    </tr>\n",
              "    <tr>\n",
              "      <th>4</th>\n",
              "      <td>0.057867</td>\n",
              "      <td>0.086826</td>\n",
              "      <td>-0.517213</td>\n",
              "      <td>0.900443</td>\n",
              "      <td>0.291228</td>\n",
              "      <td>0.151911</td>\n",
              "      <td>-0.238363</td>\n",
              "      <td>-0.093362</td>\n",
              "      <td>0.201345</td>\n",
              "      <td>-0.461806</td>\n",
              "      <td>...</td>\n",
              "      <td>0.339001</td>\n",
              "      <td>0.218275</td>\n",
              "      <td>-0.167048</td>\n",
              "      <td>-0.548859</td>\n",
              "      <td>1.109468</td>\n",
              "      <td>-0.897853</td>\n",
              "      <td>-0.791631</td>\n",
              "      <td>0.513417</td>\n",
              "      <td>-1.277015</td>\n",
              "      <td>-1.277015</td>\n",
              "    </tr>\n",
              "  </tbody>\n",
              "</table>\n",
              "<p>5 rows × 26 columns</p>\n",
              "</div>"
            ],
            "text/plain": [
              "         T1      RH_1        T2      RH_2        T3      RH_3        T4  \\\n",
              "0 -0.558269 -0.908886 -1.053940 -0.471249 -0.340829 -1.251785 -0.529426   \n",
              "1  0.187255 -0.069643  0.824607 -0.514343  0.046245 -0.280861  0.300104   \n",
              "2 -1.537925  1.168722 -0.785577  0.593906 -1.423657  1.450227 -0.637766   \n",
              "3  0.269407 -0.522315  0.735152 -0.967238  0.781196 -1.118782  0.731848   \n",
              "4  0.057867  0.086826 -0.517213  0.900443  0.291228  0.151911 -0.238363   \n",
              "\n",
              "       RH_4        T5      RH_5  ...        T9      RH_9     T_out  \\\n",
              "0 -1.147968 -0.442995  1.330007  ... -0.090325 -0.818386 -0.333029   \n",
              "1 -0.093362  0.409024  0.364176  ...  0.627939  0.015921  0.631154   \n",
              "2  1.040894 -1.023433  0.207574  ... -1.281992  0.650284 -0.264026   \n",
              "3 -0.788008  0.574103 -0.680320  ...  0.627939 -0.288412 -0.002932   \n",
              "4 -0.093362  0.201345 -0.461806  ...  0.339001  0.218275 -0.167048   \n",
              "\n",
              "   Press_mm_hg    RH_out  Windspeed  Visibility  Tdewpoint       rv1       rv2  \n",
              "0     0.862752 -0.089927  -0.490918   -0.876211  -0.370140 -0.389074 -0.389074  \n",
              "1    -0.375544 -1.423832   1.543760    0.138755  -0.212277 -1.665812 -1.665812  \n",
              "2     0.226501 -0.246857   0.797712    0.138755  -0.388989 -0.449091 -0.449091  \n",
              "3     0.144404 -0.583136   0.526421    0.138755  -0.325373  1.134425  1.134425  \n",
              "4    -0.548859  1.109468  -0.897853   -0.791631   0.513417 -1.277015 -1.277015  \n",
              "\n",
              "[5 rows x 26 columns]"
            ]
          },
          "execution_count": 9,
          "metadata": {},
          "output_type": "execute_result"
        }
      ],
      "source": [
        "train.head()"
      ]
    },
    {
      "cell_type": "code",
      "execution_count": null,
      "metadata": {
        "id": "nILG7nKSIB7R",
        "outputId": "376290b8-84b8-422f-fcf2-36c2b0884253"
      },
      "outputs": [
        {
          "data": {
            "text/plain": [
              "<bound method NDFrame.describe of 0        90\n",
              "1        60\n",
              "2        40\n",
              "3       120\n",
              "4        60\n",
              "       ... \n",
              "6311     50\n",
              "6312    240\n",
              "6313     40\n",
              "6314     50\n",
              "6315     30\n",
              "Name: Appliances, Length: 6316, dtype: int64>"
            ]
          },
          "execution_count": 10,
          "metadata": {},
          "output_type": "execute_result"
        }
      ],
      "source": [
        "target.describe"
      ]
    },
    {
      "cell_type": "code",
      "execution_count": null,
      "metadata": {
        "colab": {
          "base_uri": "https://localhost:8080/"
        },
        "id": "55Jfekli2ABw",
        "outputId": "590085e6-7a3a-463b-8c9c-95ec78edc5d2"
      },
      "outputs": [
        {
          "name": "stdout",
          "output_type": "stream",
          "text": [
            "['T1', 'RH_1', 'T2', 'RH_2', 'T3', 'RH_3', 'T4', 'RH_4', 'T5', 'RH_5', 'T6', 'RH_6', 'T7', 'RH_7', 'T8', 'RH_8', 'T9', 'RH_9', 'T_out', 'Press_mm_hg', 'RH_out', 'Windspeed', 'Visibility', 'Tdewpoint', 'rv1', 'rv2']\n"
          ]
        }
      ],
      "source": [
        "headers = ['T1',\t'RH_1',\t'T2',\t'RH_2'\t,'T3',\t'RH_3',\t'T4'\t,'RH_4'\t,'T5'\t,'RH_5',\t'T6'\t,'RH_6'\t,'T7',\t'RH_7',\t'T8'\t,'RH_8',\t'T9',\t'RH_9'\t,'T_out'\t,'Press_mm_hg' ,'RH_out'\t,'Windspeed',\t'Visibility'\t,'Tdewpoint'\t,'rv1'\t,'rv2']\n",
        "print(headers)"
      ]
    },
    {
      "cell_type": "code",
      "execution_count": null,
      "metadata": {
        "id": "4oqhek6S2u8Y"
      },
      "outputs": [],
      "source": [
        "selected = [True]*26 # to be used in backward selection process\n",
        "maxInt = 1000000000\n",
        "weightRecord = []\n",
        "lossRecord = []\n",
        "iters = 10000\n",
        "alpha = 0.001\n",
        "wtest = [0.0]*27"
      ]
    },
    {
      "cell_type": "code",
      "execution_count": null,
      "metadata": {
        "id": "fR4jHEsXdvfp"
      },
      "outputs": [],
      "source": [
        "def hypothesis(weights,k,train):\n",
        "  ans = weights[26]\n",
        "  for i in range(0,26):\n",
        "    if(selected[i]):\n",
        "      ans +=weights[i]*train[headers[i]][k]\n",
        "  return ans"
      ]
    },
    {
      "cell_type": "code",
      "execution_count": null,
      "metadata": {
        "colab": {
          "base_uri": "https://localhost:8080/"
        },
        "id": "oSr2_wG93YVq",
        "outputId": "fbd553c9-d454-462d-a509-8e88bcae69bb"
      },
      "outputs": [
        {
          "name": "stdout",
          "output_type": "stream",
          "text": [
            "0.0\n"
          ]
        }
      ],
      "source": [
        "print(hypothesis(wtest,0,train))"
      ]
    },
    {
      "cell_type": "code",
      "execution_count": null,
      "metadata": {
        "id": "RA1J1EDSdzl8"
      },
      "outputs": [],
      "source": [
        "def error(weights,trai,tar):\n",
        "  ans = 0.0\n",
        "  for i in range(0,len(trai)):\n",
        "    ans+=(hypothesis(weights,i,trai)-tar[i])**2\n",
        "  ans = ans/len(trai)\n",
        "  return ans"
      ]
    },
    {
      "cell_type": "code",
      "execution_count": null,
      "metadata": {
        "colab": {
          "base_uri": "https://localhost:8080/"
        },
        "id": "Dgy7BCK8dPHG",
        "outputId": "8552593f-a6b0-4b03-90d0-7cefd98ab3ae"
      },
      "outputs": [
        {
          "name": "stdout",
          "output_type": "stream",
          "text": [
            "20781.253958201392\n",
            "19501.457541191383\n"
          ]
        }
      ],
      "source": [
        "print(error(wtest,train,target))\n",
        "print(error(wtest,testtrain,testtarget))"
      ]
    },
    {
      "cell_type": "code",
      "execution_count": null,
      "metadata": {
        "id": "JdcaMbMn3UQz"
      },
      "outputs": [],
      "source": [
        "#calculating P value for all elements\n",
        "# assuming all as normal distribution\n",
        "# calculating means and stds\n",
        "\n",
        "means=[]\n",
        "for i in headers:\n",
        "  means.append(train[i].mean())\n",
        "stds=[]\n",
        "for i in headers:\n",
        "  stds.append(train[i].std())\n"
      ]
    },
    {
      "cell_type": "code",
      "execution_count": null,
      "metadata": {
        "colab": {
          "base_uri": "https://localhost:8080/"
        },
        "id": "Mi8SZEGd3kmA",
        "outputId": "33744e6a-97f4-4a63-b024-c8702c0558ac"
      },
      "outputs": [
        {
          "name": "stdout",
          "output_type": "stream",
          "text": [
            "[1.3432362674122223e-15, -6.879304669368291e-16, 1.4652975195179393e-15, 1.1812379236037132e-16, 1.957479987686153e-15, 1.1047387056941393e-15, -6.704931452074409e-16, 5.394319851123623e-16, 4.049958595212731e-16, -3.841835722958743e-16, -1.1812379236037132e-16, 1.7549820579255166e-16, 2.27247676731381e-16, 8.87053431201455e-16, 2.128478239484024e-15, -1.3454862444095626e-15, 1.241987302531904e-15, 2.0137294126196632e-16, -9.899898788297786e-17, 5.889314790538512e-15, -6.92992915180845e-16, -1.507484588218072e-16, -2.1768527449268427e-16, 4.499953994680812e-17, 2.699972396808487e-17, 2.699972396808487e-17]\n"
          ]
        }
      ],
      "source": [
        "print(means)"
      ]
    },
    {
      "cell_type": "code",
      "execution_count": null,
      "metadata": {
        "colab": {
          "base_uri": "https://localhost:8080/"
        },
        "id": "X9fIy8d34rW9",
        "outputId": "3407832a-aac8-40e7-b54c-2daa1e8c2dbe"
      },
      "outputs": [
        {
          "name": "stdout",
          "output_type": "stream",
          "text": [
            "[1.0, 1.0, 0.9999999999999999, 1.0, 1.0, 1.0, 0.9999999999999999, 1.0, 1.0, 1.0, 1.0, 1.0, 0.9999999999999998, 1.0, 1.0, 1.0, 0.9999999999999998, 1.0, 0.9999999999999998, 0.9999999999999999, 1.0, 1.0, 0.9999999999999999, 1.0, 1.0, 1.0]\n"
          ]
        }
      ],
      "source": [
        "print(stds)"
      ]
    },
    {
      "cell_type": "code",
      "execution_count": null,
      "metadata": {
        "id": "ZY8heVFfe0ov"
      },
      "outputs": [],
      "source": [
        "def Regression(trai,tar):\n",
        "  w = [0.0]*27\n",
        "  size = len(trai)\n",
        "  k = 0\n",
        "  while k<iters:\n",
        "    for p in range(0,len(tar)):\n",
        "      k+=1\n",
        "      w[26] = w[26] -  (alpha*(hypothesis(w,p,trai)-tar[p]))\n",
        "      for i in range(0,26):\n",
        "        if(selected[i]):\n",
        "          w[i] = w[i] - (alpha*(hypothesis(w,p,trai)-tar[p])*trai[headers[i]][p])\n",
        "  return w\n",
        "\n"
      ]
    },
    {
      "cell_type": "code",
      "execution_count": null,
      "metadata": {
        "id": "vuq3es69iRsB"
      },
      "outputs": [],
      "source": [
        "initialW = Regression(train,target)"
      ]
    },
    {
      "cell_type": "code",
      "execution_count": null,
      "metadata": {
        "id": "F4P2J0nSIB7m",
        "outputId": "25ee9988-f66e-4ea8-989f-0e6419483208"
      },
      "outputs": [
        {
          "name": "stdout",
          "output_type": "stream",
          "text": [
            "[-4.359649327172954, 36.82417540534614, 1.2154418476421371, -13.749754958580246, 33.3512877194079, 13.067659404036325, -1.8450305531525306, 7.542689096912752, -10.37527813051379, 2.9152308416816606, 11.056352087933746, 5.1592860187823195, -8.673947331863397, -12.981094821149487, 9.534389980428912, -20.797476113397543, -19.340460077044963, -9.238439035878722, -1.5828090500625198, -1.0299627169275474, -4.797793228420305, 4.371921192874011, 1.4629652578707923, -3.6107732352452677, 2.5745150484162047, 2.564512967177298, 103.31170190749917]\n"
          ]
        }
      ],
      "source": [
        "print(initialW)"
      ]
    },
    {
      "cell_type": "code",
      "execution_count": null,
      "metadata": {
        "colab": {
          "base_uri": "https://localhost:8080/"
        },
        "id": "GGCsB_pK-kP8",
        "outputId": "566de030-3fc2-40b1-aa6e-a5cd9f2a1a2f"
      },
      "outputs": [
        {
          "name": "stdout",
          "output_type": "stream",
          "text": [
            "92.46772945796643\n",
            "90\n"
          ]
        }
      ],
      "source": [
        "print(hypothesis(initialW,0,train))\n",
        "print(target[0])"
      ]
    },
    {
      "cell_type": "code",
      "execution_count": null,
      "metadata": {
        "colab": {
          "base_uri": "https://localhost:8080/"
        },
        "id": "EFygbYw7F83D",
        "outputId": "208431e8-c89b-476d-a708-c96708552de6"
      },
      "outputs": [
        {
          "name": "stdout",
          "output_type": "stream",
          "text": [
            "9852.270588120102\n"
          ]
        }
      ],
      "source": [
        "print(error(initialW,train,target))"
      ]
    },
    {
      "cell_type": "code",
      "execution_count": null,
      "metadata": {
        "colab": {
          "base_uri": "https://localhost:8080/"
        },
        "id": "xz97gnY6GdJa",
        "outputId": "6af5fd34-85a7-4181-8ae4-a650d1f38699"
      },
      "outputs": [
        {
          "name": "stdout",
          "output_type": "stream",
          "text": [
            "9152.670733672248\n"
          ]
        }
      ],
      "source": [
        "print(error(initialW,testtrain,testtarget))"
      ]
    },
    {
      "cell_type": "code",
      "execution_count": null,
      "metadata": {
        "id": "ivK3mEsPdYyo"
      },
      "outputs": [],
      "source": [
        "deleted = []\n",
        "finalModel = initialW\n",
        "trainErrorRecord = []\n",
        "trainErrorRecord.append(error(initialW,train,target))\n",
        "testErrorRecord = []\n",
        "testErrorRecord.append(error(initialW,testtrain,testtarget))\n",
        "selected = [True]*26\n",
        "models = []\n",
        "models.append(initialW)"
      ]
    },
    {
      "cell_type": "code",
      "execution_count": null,
      "metadata": {
        "colab": {
          "base_uri": "https://localhost:8080/",
          "height": 1000
        },
        "id": "lAh1K5Wxe0Se",
        "outputId": "14904e7d-0625-41ee-d85a-c2bd877cc870"
      },
      "outputs": [
        {
          "name": "stdout",
          "output_type": "stream",
          "text": [
            "[True, True, True, True, True, True, True, True, True, True, True, True, True, True, True, True, True, True, True, True, True, True, True, True, True, True]\n",
            "T7\n",
            "[True, True, True, True, True, True, True, True, True, True, True, True, False, True, True, True, True, True, True, True, True, True, True, True, True, True]\n",
            "RH_9\n",
            "[True, True, True, True, True, True, True, True, True, True, True, True, False, True, True, True, True, False, True, True, True, True, True, True, True, True]\n",
            "T4\n",
            "[True, True, True, True, True, True, False, True, True, True, True, True, False, True, True, True, True, False, True, True, True, True, True, True, True, True]\n",
            "Press_mm_hg\n",
            "[True, True, True, True, True, True, False, True, True, True, True, True, False, True, True, True, True, False, True, False, True, True, True, True, True, True]\n",
            "RH_out\n",
            "[True, True, True, True, True, True, False, True, True, True, True, True, False, True, True, True, True, False, True, False, False, True, True, True, True, True]\n",
            "RH_4\n",
            "[True, True, True, True, True, True, False, False, True, True, True, True, False, True, True, True, True, False, True, False, False, True, True, True, True, True]\n",
            "T2\n",
            "[True, True, False, True, True, True, False, False, True, True, True, True, False, True, True, True, True, False, True, False, False, True, True, True, True, True]\n",
            "Tdewpoint\n",
            "[True, True, False, True, True, True, False, False, True, True, True, True, False, True, True, True, True, False, True, False, False, True, True, False, True, True]\n",
            "rv1\n",
            "[True, True, False, True, True, True, False, False, True, True, True, True, False, True, True, True, True, False, True, False, False, True, True, False, False, True]\n",
            "RH_6\n",
            "[True, True, False, True, True, True, False, False, True, True, True, False, False, True, True, True, True, False, True, False, False, True, True, False, False, True]\n",
            "Visibility\n",
            "[True, True, False, True, True, True, False, False, True, True, True, False, False, True, True, True, True, False, True, False, False, True, False, False, False, True]\n",
            "RH_5\n",
            "[True, True, False, True, True, True, False, False, True, False, True, False, False, True, True, True, True, False, True, False, False, True, False, False, False, True]\n",
            "T_out\n",
            "[True, True, False, True, True, True, False, False, True, False, True, False, False, True, True, True, True, False, False, False, False, True, False, False, False, True]\n",
            "T6\n",
            "[True, True, False, True, True, True, False, False, True, False, False, False, False, True, True, True, True, False, False, False, False, True, False, False, False, True]\n",
            "rv2\n",
            "[True, True, False, True, True, True, False, False, True, False, False, False, False, True, True, True, True, False, False, False, False, True, False, False, False, False]\n",
            "T1\n",
            "[False, True, False, True, True, True, False, False, True, False, False, False, False, True, True, True, True, False, False, False, False, True, False, False, False, False]\n",
            "RH_3\n",
            "[False, True, False, True, True, False, False, False, True, False, False, False, False, True, True, True, True, False, False, False, False, True, False, False, False, False]\n",
            "T8\n",
            "[False, True, False, True, True, False, False, False, True, False, False, False, False, True, False, True, True, False, False, False, False, True, False, False, False, False]\n",
            "T5\n",
            "[False, True, False, True, True, False, False, False, False, False, False, False, False, True, False, True, True, False, False, False, False, True, False, False, False, False]\n",
            "Windspeed\n",
            "[False, True, False, True, True, False, False, False, False, False, False, False, False, True, False, True, True, False, False, False, False, False, False, False, False, False]\n",
            "RH_7\n",
            "[False, True, False, True, True, False, False, False, False, False, False, False, False, False, False, True, True, False, False, False, False, False, False, False, False, False]\n",
            "RH_2\n",
            "[False, True, False, False, True, False, False, False, False, False, False, False, False, False, False, True, True, False, False, False, False, False, False, False, False, False]\n",
            "T3\n",
            "[False, True, False, False, False, False, False, False, False, False, False, False, False, False, False, True, True, False, False, False, False, False, False, False, False, False]\n",
            "T9\n",
            "[False, True, False, False, False, False, False, False, False, False, False, False, False, False, False, True, False, False, False, False, False, False, False, False, False, False]\n",
            "RH_8\n",
            "[False, True, False, False, False, False, False, False, False, False, False, False, False, False, False, False, False, False, False, False, False, False, False, False, False, False]\n",
            "RH_1\n",
            "[False, False, False, False, False, False, False, False, False, False, False, False, False, False, False, False, False, False, False, False, False, False, False, False, False, False]\n"
          ]
        }
      ],
      "source": [
        "#BruteForce Greedy Backward Feature Selection\n",
        "k = 0\n",
        "for k in range(0,26):\n",
        "  print(selected)\n",
        "  minIndex = -1\n",
        "  minTrainError = maxInt\n",
        "  minTestError = maxInt\n",
        "  for p in range(0,26):\n",
        "    if(selected[p]==False):\n",
        "      continue\n",
        "    if selected[p]:\n",
        "      selected[p]=False\n",
        "    InstanceModel = Regression(train,target)\n",
        "    trainError = error(InstanceModel,train,target)\n",
        "    testError = error(InstanceModel,testtrain,testtarget)\n",
        "    if(testError<minTestError):\n",
        "      minIndex = p\n",
        "      minTestError = testError\n",
        "      minTrainError = trainError\n",
        "    selected[p]=True\n",
        "\n",
        "\n",
        "  selected[minIndex]=False\n",
        "  InstanceModel = Regression(train,target)\n",
        "  models.append(InstanceModel)\n",
        "  trainError = error(InstanceModel,train,target)\n",
        "  testError = error(InstanceModel,testtrain,testtarget)\n",
        "  deleted.append(minIndex)\n",
        "  trainErrorRecord.append(trainError)\n",
        "  testErrorRecord.append(testError)\n",
        "  print(headers[minIndex])\n",
        "\n",
        "print(selected)\n",
        "\n",
        "\n",
        "\n"
      ]
    },
    {
      "cell_type": "code",
      "execution_count": null,
      "metadata": {
        "id": "BXkzGshcIB7s",
        "outputId": "eac9e776-9857-4a7e-a7ef-f9efdd8b1abb"
      },
      "outputs": [
        {
          "name": "stdout",
          "output_type": "stream",
          "text": [
            "14\n",
            "9057.499136733115\n"
          ]
        }
      ],
      "source": [
        "best = maxInt\n",
        "index = -1\n",
        "for i in range(0,26):\n",
        "    if(testErrorRecord[i]<best):\n",
        "        index = i\n",
        "        best = testErrorRecord[i]\n",
        "\n",
        "print(index)\n",
        "print(best)"
      ]
    },
    {
      "cell_type": "code",
      "execution_count": null,
      "metadata": {
        "id": "1yvoT2r8IB7t",
        "outputId": "cec266b8-6ee8-406f-b826-21c326814bd3"
      },
      "outputs": [
        {
          "name": "stdout",
          "output_type": "stream",
          "text": [
            "[12, 17, 6, 19, 20, 7, 2, 23, 24, 11, 22, 9, 18, 10, 25, 0, 5, 14, 8, 21, 13, 3, 4, 16, 15, 1]\n"
          ]
        }
      ],
      "source": [
        "print(deleted)"
      ]
    },
    {
      "cell_type": "code",
      "execution_count": null,
      "metadata": {
        "id": "oXJ8qKEiIB7u",
        "outputId": "00503c2b-8d87-489c-a7a6-eccfb04f7e9d"
      },
      "outputs": [
        {
          "name": "stdout",
          "output_type": "stream",
          "text": [
            "9057.499136733115\n"
          ]
        }
      ],
      "source": [
        "print(best)"
      ]
    },
    {
      "cell_type": "code",
      "execution_count": null,
      "metadata": {
        "id": "eAcyn-BtIB7v"
      },
      "outputs": [],
      "source": [
        "selected = [True]*26\n",
        "i = 0\n",
        "for i in range(0,index):\n",
        "    selected[deleted[i]]=False\n",
        "\n",
        "FinalModelBackwardPropagation = Regression(train,target)"
      ]
    },
    {
      "cell_type": "code",
      "execution_count": null,
      "metadata": {
        "id": "spHAIjgZIB7v",
        "outputId": "71766652-ecaa-4692-85d3-8e319e929abd"
      },
      "outputs": [
        {
          "name": "stdout",
          "output_type": "stream",
          "text": [
            "9057.499136733115\n"
          ]
        }
      ],
      "source": [
        "print(error(FinalModelBackwardPropagation,testtrain,testtarget))"
      ]
    },
    {
      "cell_type": "code",
      "execution_count": null,
      "metadata": {
        "id": "hFOtlF9XnN2d",
        "outputId": "b40c426a-121f-4a71-d2e7-dc90994016dd"
      },
      "outputs": [
        {
          "name": "stdout",
          "output_type": "stream",
          "text": [
            "9852.337262385052\n"
          ]
        }
      ],
      "source": [
        "print(error(FinalModelBackwardPropagation,train,target))"
      ]
    },
    {
      "cell_type": "code",
      "execution_count": null,
      "metadata": {
        "id": "pPP-t6WuIB7w",
        "outputId": "aa4d046a-51b5-4e93-a734-28215f53cf81"
      },
      "outputs": [
        {
          "name": "stdout",
          "output_type": "stream",
          "text": [
            "[True, True, False, True, True, True, False, False, True, False, False, False, False, True, True, True, True, False, False, False, False, True, False, False, False, True]\n"
          ]
        }
      ],
      "source": [
        "print(selected)"
      ]
    },
    {
      "cell_type": "code",
      "execution_count": null,
      "metadata": {
        "id": "D0RoFDzyIB7w",
        "outputId": "6fef861e-ee20-421c-8dc3-fe0d235b5285"
      },
      "outputs": [
        {
          "name": "stdout",
          "output_type": "stream",
          "text": [
            "T1\n",
            "RH_1\n",
            "RH_2\n",
            "T3\n",
            "RH_3\n",
            "T5\n",
            "RH_7\n",
            "T8\n",
            "RH_8\n",
            "T9\n",
            "Windspeed\n",
            "rv2\n"
          ]
        }
      ],
      "source": [
        "for i in range(0,26):\n",
        "    if(selected[i]):\n",
        "        print(headers[i])"
      ]
    },
    {
      "cell_type": "code",
      "execution_count": null,
      "metadata": {
        "id": "ZhL61Fk8nN2e",
        "outputId": "0ee769cf-bd54-4125-fbae-b4d7e661aff6"
      },
      "outputs": [
        {
          "name": "stdout",
          "output_type": "stream",
          "text": [
            "[9852.270588120102, 9855.62840605817, 9865.326256090191, 9862.869797999354, 9860.90744311069, 9857.783374949922, 9863.971123660169, 9858.896560039791, 9849.695494456579, 9832.991057062325, 9840.166670241884, 9842.54241447953, 9853.894637383137, 9856.782380180523, 9852.337262385052, 9846.595093203523, 9858.943680434008, 9829.04821107882, 9857.180834330265, 9864.03378769635, 9881.333090870114, 9917.20424846568, 10105.06558074758, 10452.41695060547, 10511.641363656605, 10994.872966769279, 11032.3004616902]\n"
          ]
        }
      ],
      "source": [
        "print(trainErrorRecord)"
      ]
    },
    {
      "cell_type": "code",
      "execution_count": null,
      "metadata": {
        "id": "3s7svywinN2e"
      },
      "outputs": [],
      "source": [
        "table = zip(trainErrorRecord,testErrorRecord)"
      ]
    },
    {
      "cell_type": "code",
      "execution_count": null,
      "metadata": {
        "id": "byYrqiMqnN2e",
        "outputId": "41d795a2-cef4-4b16-c928-4581b5b8fd17"
      },
      "outputs": [
        {
          "data": {
            "image/png": "[encoded data removed]",
            "text/plain": [
              "<Figure size 640x480 with 1 Axes>"
            ]
          },
          "metadata": {},
          "output_type": "display_data"
        }
      ],
      "source": [
        "import matplotlib.pyplot as plt\n",
        "ys = trainErrorRecord\n",
        "xs = [x for x in range(len(ys))]\n",
        "plt.plot(xs, ys)\n",
        "plt.show()\n",
        "# Make sure to close the plt object once done\n",
        "plt.close()"
      ]
    },
    {
      "cell_type": "code",
      "execution_count": null,
      "metadata": {
        "id": "yU2_KwitnN2e",
        "outputId": "8524e1e3-d10e-4608-b3b6-6b89da5c9842"
      },
      "outputs": [
        {
          "data": {
            "image/png": "[encoded data removed]",
            "text/plain": [
              "<Figure size 640x480 with 1 Axes>"
            ]
          },
          "metadata": {},
          "output_type": "display_data"
        }
      ],
      "source": [
        "import matplotlib.pyplot as plt\n",
        "ys = testErrorRecord\n",
        "xs = [x for x in range(len(ys))]\n",
        "plt.plot(xs, ys)\n",
        "plt.show()\n",
        "# Make sure to close the plt object once done\n",
        "plt.close()"
      ]
    }
  ],
  "metadata": {
    "colab": {
      "provenance": []
    },
    "kernelspec": {
      "display_name": "Python 3.10.5 64-bit",
      "language": "python",
      "name": "python3"
    },
    "language_info": {
      "codemirror_mode": {
        "name": "ipython",
        "version": 3
      },
      "file_extension": ".py",
      "mimetype": "text/x-python",
      "name": "python",
      "nbconvert_exporter": "python",
      "pygments_lexer": "ipython3",
      "version": "3.10.5"
    },
    "vscode": {
      "interpreter": {
        "hash": "44f906b7d8c79486b69862d79936a4f47e9b2e04934d68e5ff85c4f27cfebbd0"
      }
    }
  },
  "nbformat": 4,
  "nbformat_minor": 0
}