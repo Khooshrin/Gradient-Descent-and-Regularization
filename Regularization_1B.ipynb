{
  "cells": [
    {
      "cell_type": "code",
      "execution_count": 30,
      "metadata": {
        "id": "1eIoukUagH9r"
      },
      "outputs": [],
      "source": [
        "import pandas as pd\n",
        "import numpy as np\n",
        "df = pd.read_csv('https://raw.githubusercontent.com/gibsonjackson/FODSIMG/main/TrainFinal.csv')\n",
        "df=(df-df.min())/(df.max()-df.min())\n",
        "fd = df\n",
        "#df.head()\n",
        "#df.info()\n",
        "Res = df['quantitative response of LC50']\n",
        "X1 = df['MLOGP']\n",
        "# X1 = (X1-X1.mean())/X1.std()\n",
        "X2 = df['RDCHI']\n",
        "# X2 = (X2-X2.mean())/X2.std()\n",
        "Y1 = Res.tolist()\n",
        "X1 = X1.tolist()\n",
        "X2 = X2.tolist()\n",
        "\n",
        "\n",
        "dfv = pd.read_csv('https://raw.githubusercontent.com/gibsonjackson/FODSIMG/main/Validate.csv')\n",
        "dfv=(dfv-dfv.min())/(dfv.max()-dfv.min())\n",
        "fdv = df\n",
        "#dfv.head()\n",
        "#dfv.info()\n",
        "Resv = dfv['quantitative response of LC50']\n",
        "X1v = dfv['MLOGP']\n",
        "X2v = dfv['RDCHI']\n",
        "Y1v = Resv.tolist()\n",
        "X1v = X1v.tolist()\n",
        "X2v = X2v.tolist()\n",
        "\n",
        "\n",
        "dft = pd.read_csv('https://raw.githubusercontent.com/gibsonjackson/FODSIMG/main/Test.csv')\n",
        "dft=(dft-dft.min())/(dft.max()-dft.min())\n",
        "fdt = df\n",
        "#dft.head()\n",
        "#dft.info()\n",
        "Rest = dft['quantitative response of LC50']\n",
        "X1t = dft['MLOGP']\n",
        "X2t = dft['RDCHI']\n",
        "Y1t = Rest.tolist()\n",
        "X1t = X1t.tolist()\n",
        "X2t = X2t.tolist()"
      ]
    },
    {
      "cell_type": "markdown",
      "metadata": {
        "id": "_nfC1K55UTps"
      },
      "source": [
        "*Creating polynomial stochastic regression model with regularisation*"
      ]
    },
    {
      "cell_type": "code",
      "execution_count": 31,
      "metadata": {
        "id": "XxFH69QZlafQ"
      },
      "outputs": [],
      "source": [
        "def hypothesis(X1,X2, theta,degree):\n",
        "  Pred_Y = [0.0]*len(X1)\n",
        "  for y in range(len(Pred_Y)):\n",
        "    for i in range(degree+1):\n",
        "      for j in range(degree+1):\n",
        "        if (i+j>degree or i==j):\n",
        "          break\n",
        "        Pred_Y[y] = Pred_Y[y] + (theta[i][j]*pow(X1[y],i)*pow(X2[y],j))\n",
        "  return Pred_Y"
      ]
    },
    {
      "cell_type": "code",
      "execution_count": 32,
      "metadata": {
        "id": "xGSCZ21LmdOi"
      },
      "outputs": [],
      "source": [
        "def cost(X1,X2,Y,theta,degree):\n",
        "    y1 = hypothesis(X1,X2,theta,degree)\n",
        "    return sum(2*(y1-np.array(Y))**2)/(len(X1))"
      ]
    },
    {
      "cell_type": "code",
      "execution_count": 33,
      "metadata": {
        "id": "j8ujczQpglVI"
      },
      "outputs": [],
      "source": [
        "def stochasticLinearRegression(X1,X2,Y,alpha,epoch,degree,reg,q):\n",
        "  theta = [ [1.0]*(degree+1) for i in range(degree+1)]\n",
        "  J = []\n",
        "  k = 0\n",
        "  size = len(X1)\n",
        "  x1=X1\n",
        "  x2=X2\n",
        "  yu = Y\n",
        "  while k<epoch:\n",
        "    y1 = hypothesis(X1,X2,theta,degree) #Y_pred matrix from equation using theta1x1+theta2x2+theta3\n",
        "    yy = y1\n",
        "    for r in range(size):\n",
        "      for i in range(degree+1):\n",
        "        for j in range(degree+1):\n",
        "          if (i+j>degree):\n",
        "            break\n",
        "          \n",
        "          theta[i][j]=theta[i][j]-alpha*((yy[r]-yu[r])*(x1[r]**i)*(x2[r]**j)+reg*((i*theta[i][j]**(q-1))+(j*theta[i][j]**(q-1))))/size\n",
        "          \n",
        "\n",
        "    k+=1\n",
        "    J.append(cost(X1,X2,Y,theta,degree))\n",
        "    if (k>1 and J[len(J)-2]-J[len(J)-1]<1e-6):\n",
        "        break\n",
        "  return J,theta"
      ]
    },
    {
      "cell_type": "code",
      "execution_count": 34,
      "metadata": {
        "id": "6m5kBiqGnii6"
      },
      "outputs": [],
      "source": [
        "from tabulate import tabulate\n",
        "allTheta=[]\n",
        "Jall = []\n",
        "qval = [0.5,1,2,4]"
      ]
    },
    {
      "cell_type": "code",
      "execution_count": 35,
      "metadata": {
        "id": "q4irltX7yeQC"
      },
      "outputs": [],
      "source": [
        "def all_q(ref):\n",
        "  Jq=[]\n",
        "  TestError=[]\n",
        "  print(ref)\n",
        "  for i in qval:\n",
        "    \n",
        "    Jp,TP = stochasticLinearRegression(X1,X2,Y1,0.001,10000,1,ref,i)\n",
        "    Jq.append(Jp[len(Jp)-1])\n",
        "    TestError.append(cost(X1t,X2t,Y1t,TP,1))\n",
        "  print(TestError)"
      ]
    },
    {
      "cell_type": "code",
      "execution_count": null,
      "metadata": {
        "colab": {
          "base_uri": "https://localhost:8080/"
        },
        "id": "y-ZE5CXi47wa",
        "outputId": "3ec104b0-c4c2-4383-944a-740ea374e7e7"
      },
      "outputs": [],
      "source": [
        "i = 0.05\n",
        "j = 0\n",
        "while j<=1:\n",
        "  all_q(j)\n",
        "  j+=i"
      ]
    }
  ],
  "metadata": {
    "colab": {
      "provenance": []
    },
    "kernelspec": {
      "display_name": "Python 3",
      "name": "python3"
    },
    "language_info": {
      "name": "python"
    }
  },
  "nbformat": 4,
  "nbformat_minor": 0
}
